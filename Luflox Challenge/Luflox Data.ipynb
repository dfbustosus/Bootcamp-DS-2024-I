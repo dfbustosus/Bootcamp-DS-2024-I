{
 "cells": [
  {
   "cell_type": "code",
   "execution_count": 5,
   "metadata": {},
   "outputs": [],
   "source": [
    "import pandas as pd \n",
    "import json\n",
    "with open(\"Job Description.json\") as f:\n",
    "    JD=json.load(f)\n",
    "with open(\"Candidate Working Experience.json\") as f:\n",
    "    WE=json.load(f)\n",
    "with open(\"Candidate Education.json\") as f:\n",
    "    CE=json.load(f)"
   ]
  },
  {
   "cell_type": "code",
   "execution_count": 44,
   "metadata": {},
   "outputs": [],
   "source": [
    "T_CE= pd.json_normalize(CE[\"education\"])\n",
    "T_JD=pd.json_normalize(JD)\n",
    "T_JD[\"responsibilities\"]= T_JD[\"responsibilities\"].apply(lambda x: \"\\n\".join(x))[0]\n",
    "T_JD = T_JD[[\"responsibilities\",\"role\",\"stack\", \"description\",\"requirements\"]]\n",
    "T_WE=pd.json_normalize(WE[\"experiences\"])"
   ]
  },
  {
   "cell_type": "code",
   "execution_count": 45,
   "metadata": {},
   "outputs": [
    {
     "data": {
      "text/html": [
       "<div>\n",
       "<style scoped>\n",
       "    .dataframe tbody tr th:only-of-type {\n",
       "        vertical-align: middle;\n",
       "    }\n",
       "\n",
       "    .dataframe tbody tr th {\n",
       "        vertical-align: top;\n",
       "    }\n",
       "\n",
       "    .dataframe thead th {\n",
       "        text-align: right;\n",
       "    }\n",
       "</style>\n",
       "<table border=\"1\" class=\"dataframe\">\n",
       "  <thead>\n",
       "    <tr style=\"text-align: right;\">\n",
       "      <th></th>\n",
       "      <th>company</th>\n",
       "      <th>positionType</th>\n",
       "      <th>roles</th>\n",
       "      <th>positionModality</th>\n",
       "    </tr>\n",
       "  </thead>\n",
       "  <tbody>\n",
       "    <tr>\n",
       "      <th>0</th>\n",
       "      <td>Luflox</td>\n",
       "      <td>FULL-TIME</td>\n",
       "      <td>[{'role': 'DevOps Engineer', 'responsibilities...</td>\n",
       "      <td>REMOTE</td>\n",
       "    </tr>\n",
       "    <tr>\n",
       "      <th>1</th>\n",
       "      <td>Akvelon INC</td>\n",
       "      <td>FULL-TIME</td>\n",
       "      <td>[{'description': 'Working on an internal repos...</td>\n",
       "      <td>REMOTE</td>\n",
       "    </tr>\n",
       "    <tr>\n",
       "      <th>2</th>\n",
       "      <td>NXP Semiconductors</td>\n",
       "      <td>FULL-TIME</td>\n",
       "      <td>[{'description': 'Working on an internal R&amp;D p...</td>\n",
       "      <td>REMOTE</td>\n",
       "    </tr>\n",
       "    <tr>\n",
       "      <th>3</th>\n",
       "      <td>IBM Mexico</td>\n",
       "      <td>FULL-TIME</td>\n",
       "      <td>[{'responsibilities': ['Keeping all infrastruc...</td>\n",
       "      <td>REMOTE</td>\n",
       "    </tr>\n",
       "  </tbody>\n",
       "</table>\n",
       "</div>"
      ],
      "text/plain": [
       "              company positionType  \\\n",
       "0              Luflox    FULL-TIME   \n",
       "1         Akvelon INC    FULL-TIME   \n",
       "2  NXP Semiconductors    FULL-TIME   \n",
       "3          IBM Mexico    FULL-TIME   \n",
       "\n",
       "                                               roles positionModality  \n",
       "0  [{'role': 'DevOps Engineer', 'responsibilities...           REMOTE  \n",
       "1  [{'description': 'Working on an internal repos...           REMOTE  \n",
       "2  [{'description': 'Working on an internal R&D p...           REMOTE  \n",
       "3  [{'responsibilities': ['Keeping all infrastruc...           REMOTE  "
      ]
     },
     "execution_count": 45,
     "metadata": {},
     "output_type": "execute_result"
    }
   ],
   "source": [
    "T_WE"
   ]
  }
 ],
 "metadata": {
  "kernelspec": {
   "display_name": "Python 3",
   "language": "python",
   "name": "python3"
  },
  "language_info": {
   "codemirror_mode": {
    "name": "ipython",
    "version": 3
   },
   "file_extension": ".py",
   "mimetype": "text/x-python",
   "name": "python",
   "nbconvert_exporter": "python",
   "pygments_lexer": "ipython3",
   "version": "3.9.20"
  }
 },
 "nbformat": 4,
 "nbformat_minor": 2
}
