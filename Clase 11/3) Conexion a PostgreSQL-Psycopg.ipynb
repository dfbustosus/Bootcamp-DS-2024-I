{
 "cells": [
  {
   "cell_type": "code",
   "execution_count": 18,
   "id": "215acb78",
   "metadata": {},
   "outputs": [],
   "source": [
    "#!pip install psycopg2"
   ]
  },
  {
   "cell_type": "code",
   "execution_count": 19,
   "id": "6fead696",
   "metadata": {},
   "outputs": [],
   "source": [
    "import pandas as pd\n",
    "import psycopg2\n",
    "pd.options.display.max_rows = 10\n",
    "hostname= 'localhost'\n",
    "database= 'CallCenter'\n",
    "username= 'postgres'\n",
    "#pwd='contraseña'\n",
    "port_id= '5432'"
   ]
  },
  {
   "cell_type": "code",
   "execution_count": 20,
   "id": "cad92eb5",
   "metadata": {},
   "outputs": [],
   "source": [
    "path=\"/Users/davidusta/Downloads/\"\n",
    "with open(path+'pwd.txt','r') as f:\n",
    "    pwd= f.read()"
   ]
  },
  {
   "cell_type": "code",
   "execution_count": 22,
   "id": "90095acc",
   "metadata": {},
   "outputs": [],
   "source": [
    "# Creamos la conexion (local)\n",
    "conn = psycopg2.connect(host=hostname, dbname=database, user=username, password=pwd, port=5432)\n",
    "# Conexion a redshift\n",
    "#conn = psycopg2.connect(host=hostname, dbname=database, user=username, password=pwd, port=5439)"
   ]
  },
  {
   "cell_type": "code",
   "execution_count": 21,
   "id": "f184a046",
   "metadata": {},
   "outputs": [
    {
     "name": "stdout",
     "output_type": "stream",
     "text": [
      "\u001b[0;31mSignature:\u001b[0m\n",
      "\u001b[0mpsycopg2\u001b[0m\u001b[0;34m.\u001b[0m\u001b[0mconnect\u001b[0m\u001b[0;34m(\u001b[0m\u001b[0;34m\u001b[0m\n",
      "\u001b[0;34m\u001b[0m    \u001b[0mdsn\u001b[0m\u001b[0;34m=\u001b[0m\u001b[0;32mNone\u001b[0m\u001b[0;34m,\u001b[0m\u001b[0;34m\u001b[0m\n",
      "\u001b[0;34m\u001b[0m    \u001b[0mconnection_factory\u001b[0m\u001b[0;34m=\u001b[0m\u001b[0;32mNone\u001b[0m\u001b[0;34m,\u001b[0m\u001b[0;34m\u001b[0m\n",
      "\u001b[0;34m\u001b[0m    \u001b[0mcursor_factory\u001b[0m\u001b[0;34m=\u001b[0m\u001b[0;32mNone\u001b[0m\u001b[0;34m,\u001b[0m\u001b[0;34m\u001b[0m\n",
      "\u001b[0;34m\u001b[0m    \u001b[0;34m**\u001b[0m\u001b[0mkwargs\u001b[0m\u001b[0;34m,\u001b[0m\u001b[0;34m\u001b[0m\n",
      "\u001b[0;34m\u001b[0m\u001b[0;34m)\u001b[0m\u001b[0;34m\u001b[0m\u001b[0;34m\u001b[0m\u001b[0m\n",
      "\u001b[0;31mDocstring:\u001b[0m\n",
      "Create a new database connection.\n",
      "\n",
      "The connection parameters can be specified as a string:\n",
      "\n",
      "    conn = psycopg2.connect(\"dbname=test user=postgres password=secret\")\n",
      "\n",
      "or using a set of keyword arguments:\n",
      "\n",
      "    conn = psycopg2.connect(database=\"test\", user=\"postgres\", password=\"secret\")\n",
      "\n",
      "Or as a mix of both. The basic connection parameters are:\n",
      "\n",
      "- *dbname*: the database name\n",
      "- *database*: the database name (only as keyword argument)\n",
      "- *user*: user name used to authenticate\n",
      "- *password*: password used to authenticate\n",
      "- *host*: database host address (defaults to UNIX socket if not provided)\n",
      "- *port*: connection port number (defaults to 5432 if not provided)\n",
      "\n",
      "Using the *connection_factory* parameter a different class or connections\n",
      "factory can be specified. It should be a callable object taking a dsn\n",
      "argument.\n",
      "\n",
      "Using the *cursor_factory* parameter, a new default cursor factory will be\n",
      "used by cursor().\n",
      "\n",
      "Using *async*=True an asynchronous connection will be created. *async_* is\n",
      "a valid alias (for Python versions where ``async`` is a keyword).\n",
      "\n",
      "Any other keyword parameter will be passed to the underlying client\n",
      "library: the list of supported parameters depends on the library version.\n",
      "\u001b[0;31mFile:\u001b[0m      ~/Library/Python/3.9/lib/python/site-packages/psycopg2/__init__.py\n",
      "\u001b[0;31mType:\u001b[0m      function"
     ]
    }
   ],
   "source": [
    "psycopg2.connect?"
   ]
  },
  {
   "cell_type": "code",
   "execution_count": 23,
   "id": "265c1acf",
   "metadata": {},
   "outputs": [
    {
     "data": {
      "text/plain": [
       "<connection object at 0x12624a2e0; dsn: 'user=postgres password=xxx dbname=CallCenter host=localhost port=5432', closed: 0>"
      ]
     },
     "execution_count": 23,
     "metadata": {},
     "output_type": "execute_result"
    }
   ],
   "source": [
    "conn"
   ]
  },
  {
   "cell_type": "code",
   "execution_count": 24,
   "id": "89618006",
   "metadata": {},
   "outputs": [],
   "source": [
    "def execute_read_query(connection, query):\n",
    "    cursor = connection.cursor()\n",
    "    result = None\n",
    "    try:\n",
    "        cursor.execute(query)\n",
    "        result = cursor.fetchall()\n",
    "        return result\n",
    "    except:\n",
    "        print('Error')"
   ]
  },
  {
   "cell_type": "markdown",
   "id": "416f729f",
   "metadata": {},
   "source": [
    "**Pregunta 1**\n",
    "\n",
    "Encuentre los cinco vendedores con mejor desempeño usando la columna `salesytd` (Sales, year-to-date). (Solo necesitamos conocer el `businessentityid` de cada vendedor, ya que esto identifica de forma única a cada uno). ¿Por qué podría ser escéptico con estos números en este momento?"
   ]
  },
  {
   "cell_type": "code",
   "execution_count": 27,
   "id": "ff6db99c",
   "metadata": {},
   "outputs": [
    {
     "name": "stdout",
     "output_type": "stream",
     "text": [
      "['agentid', 'name']\n"
     ]
    },
    {
     "data": {
      "text/html": [
       "<div>\n",
       "<style scoped>\n",
       "    .dataframe tbody tr th:only-of-type {\n",
       "        vertical-align: middle;\n",
       "    }\n",
       "\n",
       "    .dataframe tbody tr th {\n",
       "        vertical-align: top;\n",
       "    }\n",
       "\n",
       "    .dataframe thead th {\n",
       "        text-align: right;\n",
       "    }\n",
       "</style>\n",
       "<table border=\"1\" class=\"dataframe\">\n",
       "  <thead>\n",
       "    <tr style=\"text-align: right;\">\n",
       "      <th></th>\n",
       "      <th>agentid</th>\n",
       "      <th>name</th>\n",
       "    </tr>\n",
       "  </thead>\n",
       "  <tbody>\n",
       "    <tr>\n",
       "      <th>0</th>\n",
       "      <td>0</td>\n",
       "      <td>Michele Williams</td>\n",
       "    </tr>\n",
       "    <tr>\n",
       "      <th>1</th>\n",
       "      <td>1</td>\n",
       "      <td>Jocelyn Parker</td>\n",
       "    </tr>\n",
       "    <tr>\n",
       "      <th>2</th>\n",
       "      <td>2</td>\n",
       "      <td>Christopher Moreno</td>\n",
       "    </tr>\n",
       "    <tr>\n",
       "      <th>3</th>\n",
       "      <td>3</td>\n",
       "      <td>Todd Morrow</td>\n",
       "    </tr>\n",
       "    <tr>\n",
       "      <th>4</th>\n",
       "      <td>4</td>\n",
       "      <td>Randy Moore</td>\n",
       "    </tr>\n",
       "    <tr>\n",
       "      <th>...</th>\n",
       "      <td>...</td>\n",
       "      <td>...</td>\n",
       "    </tr>\n",
       "    <tr>\n",
       "      <th>6</th>\n",
       "      <td>6</td>\n",
       "      <td>Gloria Singh</td>\n",
       "    </tr>\n",
       "    <tr>\n",
       "      <th>7</th>\n",
       "      <td>7</td>\n",
       "      <td>Angel Briggs</td>\n",
       "    </tr>\n",
       "    <tr>\n",
       "      <th>8</th>\n",
       "      <td>8</td>\n",
       "      <td>Lisa Cordova</td>\n",
       "    </tr>\n",
       "    <tr>\n",
       "      <th>9</th>\n",
       "      <td>9</td>\n",
       "      <td>Dana Hardy</td>\n",
       "    </tr>\n",
       "    <tr>\n",
       "      <th>10</th>\n",
       "      <td>10</td>\n",
       "      <td>Agent X</td>\n",
       "    </tr>\n",
       "  </tbody>\n",
       "</table>\n",
       "<p>11 rows × 2 columns</p>\n",
       "</div>"
      ],
      "text/plain": [
       "    agentid                name\n",
       "0         0    Michele Williams\n",
       "1         1      Jocelyn Parker\n",
       "2         2  Christopher Moreno\n",
       "3         3         Todd Morrow\n",
       "4         4         Randy Moore\n",
       "..      ...                 ...\n",
       "6         6        Gloria Singh\n",
       "7         7        Angel Briggs\n",
       "8         8        Lisa Cordova\n",
       "9         9          Dana Hardy\n",
       "10       10             Agent X\n",
       "\n",
       "[11 rows x 2 columns]"
      ]
     },
     "execution_count": 27,
     "metadata": {},
     "output_type": "execute_result"
    }
   ],
   "source": [
    "query5=\"\"\"SELECT * FROM agents;\"\"\"\n",
    "cursor = conn.cursor()\n",
    "cursor.execute(query5)\n",
    "columnas = [description[0] for description in cursor.description]\n",
    "cursor.fetchall()\n",
    "print(columnas)\n",
    "#execute_read_query(conn, query5)\n",
    "pd.DataFrame(execute_read_query(conn, query5),columns=columnas)"
   ]
  },
  {
   "cell_type": "code",
   "execution_count": 28,
   "id": "2052f7b3",
   "metadata": {},
   "outputs": [
    {
     "name": "stdout",
     "output_type": "stream",
     "text": [
      "['customerid', 'name', 'occupation', 'email', 'company', 'phonenumber', 'age']\n"
     ]
    },
    {
     "data": {
      "text/html": [
       "<div>\n",
       "<style scoped>\n",
       "    .dataframe tbody tr th:only-of-type {\n",
       "        vertical-align: middle;\n",
       "    }\n",
       "\n",
       "    .dataframe tbody tr th {\n",
       "        vertical-align: top;\n",
       "    }\n",
       "\n",
       "    .dataframe thead th {\n",
       "        text-align: right;\n",
       "    }\n",
       "</style>\n",
       "<table border=\"1\" class=\"dataframe\">\n",
       "  <thead>\n",
       "    <tr style=\"text-align: right;\">\n",
       "      <th></th>\n",
       "      <th>customerid</th>\n",
       "      <th>name</th>\n",
       "      <th>occupation</th>\n",
       "      <th>email</th>\n",
       "      <th>company</th>\n",
       "      <th>phonenumber</th>\n",
       "      <th>age</th>\n",
       "    </tr>\n",
       "  </thead>\n",
       "  <tbody>\n",
       "    <tr>\n",
       "      <th>0</th>\n",
       "      <td>0</td>\n",
       "      <td>David Melton</td>\n",
       "      <td>Unemployed</td>\n",
       "      <td>DMelton@zoho.com</td>\n",
       "      <td>Morris, Winters and Ramirez</td>\n",
       "      <td>409-093-0748</td>\n",
       "      <td>16</td>\n",
       "    </tr>\n",
       "    <tr>\n",
       "      <th>1</th>\n",
       "      <td>1</td>\n",
       "      <td>Michael Gonzalez</td>\n",
       "      <td>Student</td>\n",
       "      <td>Gonzalez_Michael@yahoo.com</td>\n",
       "      <td>Hernandez and Sons</td>\n",
       "      <td>231-845-0673</td>\n",
       "      <td>19</td>\n",
       "    </tr>\n",
       "    <tr>\n",
       "      <th>2</th>\n",
       "      <td>2</td>\n",
       "      <td>Amanda Wilson</td>\n",
       "      <td>Student</td>\n",
       "      <td>Amanda.Wilson75@verizon.com</td>\n",
       "      <td>Mooney, West and Hansen</td>\n",
       "      <td>844-276-4552</td>\n",
       "      <td>18</td>\n",
       "    </tr>\n",
       "    <tr>\n",
       "      <th>3</th>\n",
       "      <td>3</td>\n",
       "      <td>Robert Thomas</td>\n",
       "      <td>Engineer, structural</td>\n",
       "      <td>RThomas@xfinity.com</td>\n",
       "      <td>Johnson-Gordon</td>\n",
       "      <td>410-404-8000</td>\n",
       "      <td>25</td>\n",
       "    </tr>\n",
       "    <tr>\n",
       "      <th>4</th>\n",
       "      <td>4</td>\n",
       "      <td>Eddie Hall</td>\n",
       "      <td>Surgeon</td>\n",
       "      <td>EddieHall@outlook.com</td>\n",
       "      <td>Dawson LLC</td>\n",
       "      <td>872-287-2196</td>\n",
       "      <td>30</td>\n",
       "    </tr>\n",
       "    <tr>\n",
       "      <th>...</th>\n",
       "      <td>...</td>\n",
       "      <td>...</td>\n",
       "      <td>...</td>\n",
       "      <td>...</td>\n",
       "      <td>...</td>\n",
       "      <td>...</td>\n",
       "      <td>...</td>\n",
       "    </tr>\n",
       "    <tr>\n",
       "      <th>995</th>\n",
       "      <td>995</td>\n",
       "      <td>Ashley Young</td>\n",
       "      <td>Student</td>\n",
       "      <td>Ashley_Y@xfinity.com</td>\n",
       "      <td>Esparza-Johnson</td>\n",
       "      <td>751-654-6719</td>\n",
       "      <td>19</td>\n",
       "    </tr>\n",
       "    <tr>\n",
       "      <th>996</th>\n",
       "      <td>996</td>\n",
       "      <td>Mr. Steven Smith</td>\n",
       "      <td>Engineer, structural</td>\n",
       "      <td>Mr..Smith@zoho.com</td>\n",
       "      <td>Hensley-Odom</td>\n",
       "      <td>279-898-4565</td>\n",
       "      <td>26</td>\n",
       "    </tr>\n",
       "    <tr>\n",
       "      <th>997</th>\n",
       "      <td>997</td>\n",
       "      <td>Mark Smith</td>\n",
       "      <td>Engineer, control and instrumentation</td>\n",
       "      <td>Mark_S@yahoo.com</td>\n",
       "      <td>Fisher LLC</td>\n",
       "      <td>563-382-1868</td>\n",
       "      <td>29</td>\n",
       "    </tr>\n",
       "    <tr>\n",
       "      <th>998</th>\n",
       "      <td>998</td>\n",
       "      <td>Jeffrey Carrillo</td>\n",
       "      <td>Unemployed</td>\n",
       "      <td>JeffreyCarrillo@yahoo.com</td>\n",
       "      <td>Morgan LLC</td>\n",
       "      <td>223-784-2416</td>\n",
       "      <td>15</td>\n",
       "    </tr>\n",
       "    <tr>\n",
       "      <th>999</th>\n",
       "      <td>999</td>\n",
       "      <td>Karen Barber</td>\n",
       "      <td>Doctor, general practice</td>\n",
       "      <td>Karen.Barber20@yandex.com</td>\n",
       "      <td>Nelson, Joseph and Fowler</td>\n",
       "      <td>512-703-6189</td>\n",
       "      <td>24</td>\n",
       "    </tr>\n",
       "  </tbody>\n",
       "</table>\n",
       "<p>1000 rows × 7 columns</p>\n",
       "</div>"
      ],
      "text/plain": [
       "     customerid              name                             occupation  \\\n",
       "0             0      David Melton                             Unemployed   \n",
       "1             1  Michael Gonzalez                                Student   \n",
       "2             2     Amanda Wilson                                Student   \n",
       "3             3     Robert Thomas                   Engineer, structural   \n",
       "4             4        Eddie Hall                                Surgeon   \n",
       "..          ...               ...                                    ...   \n",
       "995         995      Ashley Young                                Student   \n",
       "996         996  Mr. Steven Smith                   Engineer, structural   \n",
       "997         997        Mark Smith  Engineer, control and instrumentation   \n",
       "998         998  Jeffrey Carrillo                             Unemployed   \n",
       "999         999      Karen Barber               Doctor, general practice   \n",
       "\n",
       "                           email                      company   phonenumber  \\\n",
       "0               DMelton@zoho.com  Morris, Winters and Ramirez  409-093-0748   \n",
       "1     Gonzalez_Michael@yahoo.com           Hernandez and Sons  231-845-0673   \n",
       "2    Amanda.Wilson75@verizon.com      Mooney, West and Hansen  844-276-4552   \n",
       "3            RThomas@xfinity.com               Johnson-Gordon  410-404-8000   \n",
       "4          EddieHall@outlook.com                   Dawson LLC  872-287-2196   \n",
       "..                           ...                          ...           ...   \n",
       "995         Ashley_Y@xfinity.com              Esparza-Johnson  751-654-6719   \n",
       "996           Mr..Smith@zoho.com                 Hensley-Odom  279-898-4565   \n",
       "997             Mark_S@yahoo.com                   Fisher LLC  563-382-1868   \n",
       "998    JeffreyCarrillo@yahoo.com                   Morgan LLC  223-784-2416   \n",
       "999    Karen.Barber20@yandex.com    Nelson, Joseph and Fowler  512-703-6189   \n",
       "\n",
       "     age  \n",
       "0     16  \n",
       "1     19  \n",
       "2     18  \n",
       "3     25  \n",
       "4     30  \n",
       "..   ...  \n",
       "995   19  \n",
       "996   26  \n",
       "997   29  \n",
       "998   15  \n",
       "999   24  \n",
       "\n",
       "[1000 rows x 7 columns]"
      ]
     },
     "execution_count": 28,
     "metadata": {},
     "output_type": "execute_result"
    }
   ],
   "source": [
    "query5=\"\"\"SELECT * FROM customers;\"\"\"\n",
    "cursor = conn.cursor()\n",
    "cursor.execute(query5)\n",
    "columnas = [description[0] for description in cursor.description]\n",
    "cursor.fetchall()\n",
    "print(columnas)\n",
    "#execute_read_query(conn, query5)\n",
    "pd.DataFrame(execute_read_query(conn, query5),columns=columnas)"
   ]
  },
  {
   "cell_type": "markdown",
   "id": "3d95ce2c",
   "metadata": {},
   "source": [
    "Una version mejorada de la funcion sería"
   ]
  },
  {
   "cell_type": "markdown",
   "id": "1ff99896",
   "metadata": {},
   "source": [
    "Los números están codificados en esta tabla, en lugar de calcularse dinámicamente a partir de cada registro de ventas. Actualmente, no sabemos cómo se actualiza este número o mucho al respecto, por lo que es bueno permanecer escéptico."
   ]
  },
  {
   "cell_type": "markdown",
   "id": "cdb0645c",
   "metadata": {},
   "source": [
    "**Pregunta 2**\n",
    "\n",
    "Usando ```salesorderheader```, busque los 5 mejores vendedores que hicieron la mayor cantidad de ventas **en el año más reciente** (2014). (Hay una columna llamada `subtotal`; úsela). Las ventas que no tienen un vendedor asociado deben excluirse de sus cálculos y producción final. Se deben incluir todos los pedidos que se realizaron dentro del año calendario 2014.\n",
    "\n",
    "**Pista:** Puedes usar la sintaxis `'1970-01-01'` para generar un punto de comparacion en el tiempo"
   ]
  },
  {
   "cell_type": "code",
   "execution_count": 29,
   "id": "00449001",
   "metadata": {},
   "outputs": [
    {
     "data": {
      "text/plain": [
       "<connection object at 0x12624a2e0; dsn: 'user=postgres password=xxx dbname=CallCenter host=localhost port=5432', closed: 0>"
      ]
     },
     "execution_count": 29,
     "metadata": {},
     "output_type": "execute_result"
    }
   ],
   "source": [
    "conn"
   ]
  },
  {
   "cell_type": "code",
   "execution_count": 30,
   "id": "f8bd3e1c",
   "metadata": {},
   "outputs": [],
   "source": [
    "conn.close()"
   ]
  },
  {
   "cell_type": "code",
   "execution_count": 31,
   "id": "8df6923f",
   "metadata": {},
   "outputs": [
    {
     "data": {
      "text/plain": [
       "<connection object at 0x12624a2e0; dsn: 'user=postgres password=xxx dbname=CallCenter host=localhost port=5432', closed: 1>"
      ]
     },
     "execution_count": 31,
     "metadata": {},
     "output_type": "execute_result"
    }
   ],
   "source": [
    "conn"
   ]
  },
  {
   "cell_type": "code",
   "execution_count": 32,
   "id": "d437c7b9",
   "metadata": {},
   "outputs": [],
   "source": [
    "del conn"
   ]
  },
  {
   "cell_type": "markdown",
   "id": "6de39422",
   "metadata": {},
   "source": [
    "# Variables de entorno .env"
   ]
  },
  {
   "cell_type": "code",
   "execution_count": 20,
   "id": "5ada4aaa",
   "metadata": {},
   "outputs": [],
   "source": [
    "#!pip3 install -q python-dotenv"
   ]
  },
  {
   "cell_type": "code",
   "execution_count": 33,
   "id": "129db446",
   "metadata": {},
   "outputs": [
    {
     "name": "stdout",
     "output_type": "stream",
     "text": [
      "Name: python-dotenv\n",
      "Version: 1.0.1\n",
      "Summary: Read key-value pairs from a .env file and set them as environment variables\n",
      "Home-page: https://github.com/theskumar/python-dotenv\n",
      "Author: Saurabh Kumar\n",
      "Author-email: me+github@saurabh-kumar.com\n",
      "License: BSD-3-Clause\n",
      "Location: /Users/davidusta/Library/Python/3.9/lib/python/site-packages\n",
      "Requires: \n",
      "Required-by: \n"
     ]
    }
   ],
   "source": [
    "!pip3 show python-dotenv"
   ]
  },
  {
   "cell_type": "code",
   "execution_count": 35,
   "id": "79f2d9bf",
   "metadata": {},
   "outputs": [],
   "source": [
    "import dotenv\n",
    "dotenv.load_dotenv() # Cargar complemento\n",
    "# Ahora podemos acceder a las variables del archivo .env\n",
    "import os\n",
    "HOST = os.getenv('HOSTNAME')\n",
    "DB= os.getenv('database')\n",
    "USERNAME= os.getenv('USER_D')\n",
    "#print(HOST, DB, USERNAME)"
   ]
  },
  {
   "cell_type": "code",
   "execution_count": null,
   "id": "5ff55163",
   "metadata": {},
   "outputs": [],
   "source": [
    "import psycopg2\n",
    "conn = psycopg2.connect(host=HOST, dbname=database, user=USERNAME, password=pwd, port=5432)"
   ]
  },
  {
   "cell_type": "code",
   "execution_count": 26,
   "id": "88fb9ec7",
   "metadata": {},
   "outputs": [
    {
     "data": {
      "text/plain": [
       "str"
      ]
     },
     "execution_count": 26,
     "metadata": {},
     "output_type": "execute_result"
    }
   ],
   "source": [
    "type(pwd)"
   ]
  },
  {
   "cell_type": "code",
   "execution_count": 27,
   "id": "f0ffb4a8",
   "metadata": {},
   "outputs": [],
   "source": [
    "def execute_read_query(connection, query):\n",
    "    cursor = connection.cursor()\n",
    "    result = None\n",
    "    try:\n",
    "        cursor.execute(query)\n",
    "        result = cursor.fetchall()\n",
    "        return result\n",
    "    except:\n",
    "        pass\n",
    "    #except Error as e:\n",
    "    #    print(f\"Error '{e}' ha ocurrido\")"
   ]
  },
  {
   "cell_type": "code",
   "execution_count": 10,
   "id": "c25bb63c",
   "metadata": {},
   "outputs": [
    {
     "name": "stdout",
     "output_type": "stream",
     "text": [
      "Error\n"
     ]
    }
   ],
   "source": [
    "query_d= \"SELECT * FROM product;\"\n",
    "tabla= execute_read_query(conn, query_d)\n",
    "tabla"
   ]
  }
 ],
 "metadata": {
  "kernelspec": {
   "display_name": "Python 3",
   "language": "python",
   "name": "python3"
  },
  "language_info": {
   "codemirror_mode": {
    "name": "ipython",
    "version": 3
   },
   "file_extension": ".py",
   "mimetype": "text/x-python",
   "name": "python",
   "nbconvert_exporter": "python",
   "pygments_lexer": "ipython3",
   "version": "3.9.6"
  }
 },
 "nbformat": 4,
 "nbformat_minor": 5
}
