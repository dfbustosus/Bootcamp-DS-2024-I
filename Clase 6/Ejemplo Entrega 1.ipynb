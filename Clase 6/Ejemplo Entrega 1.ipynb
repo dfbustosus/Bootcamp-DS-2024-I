{
 "cells": [
  {
   "cell_type": "markdown",
   "metadata": {},
   "source": [
    "# Titulo: \n",
    "\n",
    "- **Fuente de datos**: [Datos fuente](https://www.datos.gov.co/Salud-y-Protecci-n-Social/Salud-Mental/d53j-hn85/about_data)\n",
    "- **Intro**: \n",
    "- **Objetivo principal**: \n"
   ]
  },
  {
   "cell_type": "markdown",
   "metadata": {},
   "source": [
    "# 0. Librerias"
   ]
  },
  {
   "cell_type": "code",
   "execution_count": 2,
   "metadata": {},
   "outputs": [
    {
     "name": "stdout",
     "output_type": "stream",
     "text": [
      "/Users/davidusta/Desktop/Bootcamp-DS-2024-I/Clase 6\n"
     ]
    },
    {
     "data": {
      "text/plain": [
       "'Salud_Mental_20240725.csv'"
      ]
     },
     "execution_count": 2,
     "metadata": {},
     "output_type": "execute_result"
    }
   ],
   "source": [
    "import pandas as pd\n",
    "#import numpy as np\n",
    "import os\n",
    "import warnings\n",
    "warnings.filterwarnings(\"ignore\")\n",
    "path= os.getcwd()\n",
    "print(path)\n",
    "#print(os.listdir())\n",
    "file_name=[x for x in os.listdir() if 'Salud_' in x][0]\n",
    "file_name"
   ]
  },
  {
   "cell_type": "markdown",
   "metadata": {},
   "source": [
    "# 1. Data Extraction"
   ]
  },
  {
   "cell_type": "code",
   "execution_count": 3,
   "metadata": {},
   "outputs": [
    {
     "data": {
      "text/html": [
       "<div>\n",
       "<style scoped>\n",
       "    .dataframe tbody tr th:only-of-type {\n",
       "        vertical-align: middle;\n",
       "    }\n",
       "\n",
       "    .dataframe tbody tr th {\n",
       "        vertical-align: top;\n",
       "    }\n",
       "\n",
       "    .dataframe thead th {\n",
       "        text-align: right;\n",
       "    }\n",
       "</style>\n",
       "<table border=\"1\" class=\"dataframe\">\n",
       "  <thead>\n",
       "    <tr style=\"text-align: right;\">\n",
       "      <th></th>\n",
       "      <th>diagnostico_ingreso</th>\n",
       "      <th>codigo_dx_ingreso</th>\n",
       "      <th>Menor a 1</th>\n",
       "      <th>De 1 a 4</th>\n",
       "      <th>De 5 a 9</th>\n",
       "      <th>De 10 a 14</th>\n",
       "      <th>De 15 a 19</th>\n",
       "      <th>De 20 a 49</th>\n",
       "      <th>De 50 a 64</th>\n",
       "      <th>65 Y MAS</th>\n",
       "      <th>Total</th>\n",
       "      <th>Año diagnóstico</th>\n",
       "    </tr>\n",
       "  </thead>\n",
       "  <tbody>\n",
       "    <tr>\n",
       "      <th>0</th>\n",
       "      <td>TRASTORNO MIXTO DE ANSIEDAD Y DEPRESION</td>\n",
       "      <td>F412</td>\n",
       "      <td>0</td>\n",
       "      <td>0</td>\n",
       "      <td>0</td>\n",
       "      <td>10</td>\n",
       "      <td>9</td>\n",
       "      <td>31</td>\n",
       "      <td>8</td>\n",
       "      <td>2</td>\n",
       "      <td>60</td>\n",
       "      <td>2023</td>\n",
       "    </tr>\n",
       "    <tr>\n",
       "      <th>1</th>\n",
       "      <td>EPISODIO DEPRESIVO GRAVE SIN SINTOMAS PSICOTICOS</td>\n",
       "      <td>F322</td>\n",
       "      <td>0</td>\n",
       "      <td>0</td>\n",
       "      <td>0</td>\n",
       "      <td>10</td>\n",
       "      <td>10</td>\n",
       "      <td>31</td>\n",
       "      <td>4</td>\n",
       "      <td>3</td>\n",
       "      <td>58</td>\n",
       "      <td>2023</td>\n",
       "    </tr>\n",
       "    <tr>\n",
       "      <th>2</th>\n",
       "      <td>EPISODIO DEPRESIVO MODERADO</td>\n",
       "      <td>F321</td>\n",
       "      <td>0</td>\n",
       "      <td>0</td>\n",
       "      <td>0</td>\n",
       "      <td>3</td>\n",
       "      <td>2</td>\n",
       "      <td>11</td>\n",
       "      <td>1</td>\n",
       "      <td>4</td>\n",
       "      <td>21</td>\n",
       "      <td>2023</td>\n",
       "    </tr>\n",
       "    <tr>\n",
       "      <th>3</th>\n",
       "      <td>TRASTORNO AFECTIVO BIPOLAR, NO ESPECIFICADO</td>\n",
       "      <td>F319</td>\n",
       "      <td>0</td>\n",
       "      <td>0</td>\n",
       "      <td>0</td>\n",
       "      <td>1</td>\n",
       "      <td>1</td>\n",
       "      <td>12</td>\n",
       "      <td>4</td>\n",
       "      <td>1</td>\n",
       "      <td>19</td>\n",
       "      <td>2023</td>\n",
       "    </tr>\n",
       "    <tr>\n",
       "      <th>4</th>\n",
       "      <td>ESQUIZOFRENIA, NO ESPECIFICADA</td>\n",
       "      <td>F209</td>\n",
       "      <td>0</td>\n",
       "      <td>0</td>\n",
       "      <td>0</td>\n",
       "      <td>1</td>\n",
       "      <td>0</td>\n",
       "      <td>14</td>\n",
       "      <td>0</td>\n",
       "      <td>0</td>\n",
       "      <td>15</td>\n",
       "      <td>2023</td>\n",
       "    </tr>\n",
       "    <tr>\n",
       "      <th>...</th>\n",
       "      <td>...</td>\n",
       "      <td>...</td>\n",
       "      <td>...</td>\n",
       "      <td>...</td>\n",
       "      <td>...</td>\n",
       "      <td>...</td>\n",
       "      <td>...</td>\n",
       "      <td>...</td>\n",
       "      <td>...</td>\n",
       "      <td>...</td>\n",
       "      <td>...</td>\n",
       "      <td>...</td>\n",
       "    </tr>\n",
       "    <tr>\n",
       "      <th>137</th>\n",
       "      <td>TRASTORNOS MENTALES Y DEL COMPORTAMIENTO DEBID...</td>\n",
       "      <td>F165</td>\n",
       "      <td>0</td>\n",
       "      <td>0</td>\n",
       "      <td>0</td>\n",
       "      <td>0</td>\n",
       "      <td>0</td>\n",
       "      <td>1</td>\n",
       "      <td>0</td>\n",
       "      <td>0</td>\n",
       "      <td>1</td>\n",
       "      <td>2022</td>\n",
       "    </tr>\n",
       "    <tr>\n",
       "      <th>138</th>\n",
       "      <td>TRASTORNOS MENTALES Y DEL COMPORTAMIENTO DEBID...</td>\n",
       "      <td>F123</td>\n",
       "      <td>0</td>\n",
       "      <td>0</td>\n",
       "      <td>0</td>\n",
       "      <td>0</td>\n",
       "      <td>0</td>\n",
       "      <td>1</td>\n",
       "      <td>0</td>\n",
       "      <td>0</td>\n",
       "      <td>1</td>\n",
       "      <td>2022</td>\n",
       "    </tr>\n",
       "    <tr>\n",
       "      <th>139</th>\n",
       "      <td>TRASTORNOS MENTALES Y DEL COMPORTAMIENTO DEBID...</td>\n",
       "      <td>F190</td>\n",
       "      <td>0</td>\n",
       "      <td>0</td>\n",
       "      <td>0</td>\n",
       "      <td>1</td>\n",
       "      <td>0</td>\n",
       "      <td>0</td>\n",
       "      <td>0</td>\n",
       "      <td>0</td>\n",
       "      <td>1</td>\n",
       "      <td>2022</td>\n",
       "    </tr>\n",
       "    <tr>\n",
       "      <th>140</th>\n",
       "      <td>TRASTORNOS MENTALES Y DEL COMPORTAMIENTO DEBID...</td>\n",
       "      <td>F195</td>\n",
       "      <td>0</td>\n",
       "      <td>0</td>\n",
       "      <td>0</td>\n",
       "      <td>0</td>\n",
       "      <td>0</td>\n",
       "      <td>1</td>\n",
       "      <td>0</td>\n",
       "      <td>0</td>\n",
       "      <td>1</td>\n",
       "      <td>2022</td>\n",
       "    </tr>\n",
       "    <tr>\n",
       "      <th>141</th>\n",
       "      <td>TRASTORNOS MENTALES Y DEL COMPORTAMIENTO DEBID...</td>\n",
       "      <td>F100</td>\n",
       "      <td>0</td>\n",
       "      <td>0</td>\n",
       "      <td>0</td>\n",
       "      <td>0</td>\n",
       "      <td>0</td>\n",
       "      <td>1</td>\n",
       "      <td>0</td>\n",
       "      <td>0</td>\n",
       "      <td>1</td>\n",
       "      <td>2022</td>\n",
       "    </tr>\n",
       "  </tbody>\n",
       "</table>\n",
       "<p>142 rows × 12 columns</p>\n",
       "</div>"
      ],
      "text/plain": [
       "                                   diagnostico_ingreso codigo_dx_ingreso  \\\n",
       "0              TRASTORNO MIXTO DE ANSIEDAD Y DEPRESION              F412   \n",
       "1     EPISODIO DEPRESIVO GRAVE SIN SINTOMAS PSICOTICOS              F322   \n",
       "2                          EPISODIO DEPRESIVO MODERADO              F321   \n",
       "3          TRASTORNO AFECTIVO BIPOLAR, NO ESPECIFICADO              F319   \n",
       "4                       ESQUIZOFRENIA, NO ESPECIFICADA              F209   \n",
       "..                                                 ...               ...   \n",
       "137  TRASTORNOS MENTALES Y DEL COMPORTAMIENTO DEBID...              F165   \n",
       "138  TRASTORNOS MENTALES Y DEL COMPORTAMIENTO DEBID...              F123   \n",
       "139  TRASTORNOS MENTALES Y DEL COMPORTAMIENTO DEBID...              F190   \n",
       "140  TRASTORNOS MENTALES Y DEL COMPORTAMIENTO DEBID...              F195   \n",
       "141  TRASTORNOS MENTALES Y DEL COMPORTAMIENTO DEBID...              F100   \n",
       "\n",
       "     Menor a 1  De 1 a 4  De 5 a 9  De 10 a 14  De 15 a 19  De 20 a 49  \\\n",
       "0            0         0         0          10           9          31   \n",
       "1            0         0         0          10          10          31   \n",
       "2            0         0         0           3           2          11   \n",
       "3            0         0         0           1           1          12   \n",
       "4            0         0         0           1           0          14   \n",
       "..         ...       ...       ...         ...         ...         ...   \n",
       "137          0         0         0           0           0           1   \n",
       "138          0         0         0           0           0           1   \n",
       "139          0         0         0           1           0           0   \n",
       "140          0         0         0           0           0           1   \n",
       "141          0         0         0           0           0           1   \n",
       "\n",
       "     De 50 a 64  65 Y MAS  Total  Año diagnóstico  \n",
       "0             8         2     60             2023  \n",
       "1             4         3     58             2023  \n",
       "2             1         4     21             2023  \n",
       "3             4         1     19             2023  \n",
       "4             0         0     15             2023  \n",
       "..          ...       ...    ...              ...  \n",
       "137           0         0      1             2022  \n",
       "138           0         0      1             2022  \n",
       "139           0         0      1             2022  \n",
       "140           0         0      1             2022  \n",
       "141           0         0      1             2022  \n",
       "\n",
       "[142 rows x 12 columns]"
      ]
     },
     "execution_count": 3,
     "metadata": {},
     "output_type": "execute_result"
    }
   ],
   "source": [
    "#df=pd.read_csv(path+ '\\\\' +file_name,sep=\",\",encoding='utf-8')\n",
    "df=pd.read_csv(f\"{path}/{file_name}\",sep=\",\",encoding='utf-8')\n",
    "df"
   ]
  },
  {
   "cell_type": "markdown",
   "metadata": {},
   "source": [
    "**Columnas de interes**\n",
    "\n",
    "1. `diagnostico_ingreso`: Representa \n",
    "2.\n",
    "3."
   ]
  },
  {
   "cell_type": "code",
   "execution_count": 4,
   "metadata": {},
   "outputs": [
    {
     "name": "stdout",
     "output_type": "stream",
     "text": [
      "(142, 12)\n",
      "diagnostico_ingreso\n",
      "TRASTORNOS MENTALES Y DEL COMPORTAMIENTO DEBIDOS AL USO DE MULTIPLES DROGAS Y AL USO DE OTRAS SUSTAN    5\n",
      "TRASTORNO MIXTO DE ANSIEDAD Y DEPRESION                                                                 2\n",
      "TRASTORNO AFECTIVO BIPOLAR, EPISODIO DEPRESIVO GRAVE PRESENTE SIN SINTOMAS PSICOTICOS                   2\n",
      "TRASTORNOS DE ADAPTACION                                                                                2\n",
      "CONVULSIONES DISOCIATIVAS                                                                               2\n",
      "EPISODIO MANIACO, NO ESPECIFICADO                                                                       2\n",
      "TRASTORNO DEPRESIVO RECURRENTE, EPISODIO DEPRESIVO GRAVE PRESENTE, CON SINTOMAS PSICOTICOS              2\n",
      "TRASTORNOS MENTALES Y DEL COMPORTAMIENTO DEBIDOS AL USO DE ALUCINOGENOS: INTOXICACION AGUDA             2\n",
      "DELIRIO SUPERPUESTO A UN CUADRO DE DEMENCIA                                                             2\n",
      "EPISODIO DEPRESIVO GRAVE SIN SINTOMAS PSICOTICOS                                                        2\n",
      "Name: count, dtype: int64\n"
     ]
    },
    {
     "data": {
      "text/plain": [
       "Index(['diagnostico_ingreso', 'codigo_dx_ingreso', 'Menor a 1', 'De 1 a 4',\n",
       "       'De 5 a 9', 'De 10 a 14', 'De 15 a 19', 'De 20 a 49', 'De 50 a 64',\n",
       "       '65 Y MAS', 'Total', 'Año diagnóstico'],\n",
       "      dtype='object')"
      ]
     },
     "execution_count": 4,
     "metadata": {},
     "output_type": "execute_result"
    }
   ],
   "source": [
    "print(df.shape)\n",
    "print(df[\"diagnostico_ingreso\"].value_counts().head(10))\n",
    "df.columns"
   ]
  },
  {
   "cell_type": "code",
   "execution_count": 8,
   "metadata": {},
   "outputs": [
    {
     "data": {
      "text/plain": [
       "diagnostico_ingreso\n",
       "TRASTORNOS MENTALES Y DEL COMPORTAMIENTO DEBIDOS AL USO DE MULTIPLES DROGAS Y AL USO DE OTRAS SUSTAN    5\n",
       "TRASTORNO MIXTO DE ANSIEDAD Y DEPRESION                                                                 2\n",
       "TRASTORNO AFECTIVO BIPOLAR, EPISODIO DEPRESIVO GRAVE PRESENTE SIN SINTOMAS PSICOTICOS                   2\n",
       "TRASTORNOS DE ADAPTACION                                                                                2\n",
       "CONVULSIONES DISOCIATIVAS                                                                               2\n",
       "EPISODIO MANIACO, NO ESPECIFICADO                                                                       2\n",
       "TRASTORNO DEPRESIVO RECURRENTE, EPISODIO DEPRESIVO GRAVE PRESENTE, CON SINTOMAS PSICOTICOS              2\n",
       "TRASTORNOS MENTALES Y DEL COMPORTAMIENTO DEBIDOS AL USO DE ALUCINOGENOS: INTOXICACION AGUDA             2\n",
       "DELIRIO SUPERPUESTO A UN CUADRO DE DEMENCIA                                                             2\n",
       "EPISODIO DEPRESIVO GRAVE SIN SINTOMAS PSICOTICOS                                                        2\n",
       "Name: count, dtype: int64"
      ]
     },
     "execution_count": 8,
     "metadata": {},
     "output_type": "execute_result"
    }
   ],
   "source": [
    "df[\"diagnostico_ingreso\"].value_counts().head(10)#.plot(kind='bar')"
   ]
  },
  {
   "cell_type": "code",
   "execution_count": 9,
   "metadata": {},
   "outputs": [
    {
     "data": {
      "text/plain": [
       "array([2023, 2022])"
      ]
     },
     "execution_count": 9,
     "metadata": {},
     "output_type": "execute_result"
    }
   ],
   "source": [
    "df[\"Año diagnóstico\"].unique()"
   ]
  },
  {
   "cell_type": "code",
   "execution_count": 40,
   "metadata": {},
   "outputs": [
    {
     "name": "stdout",
     "output_type": "stream",
     "text": [
      "['TRASTORNO DE ANSIEDAD GENERALIZADA', 'OTROS TRASTORNOS DE ANSIEDAD MIXTOS', 'TRASTORNO MIXTO DE ANSIEDAD Y DEPRESION', 'TRASTORNO DE ANSIEDAD , NO ESPECIFICADO', 'TRASTORNO FOBICO DE ANSIEDAD, NO ESPECIFICADO', 'OTROS TRASTORNOS FOBICOS DE ANSIEDAD', 'TRASTORNO DE PANICO [ANSIEDAD PAROXISTICA EPISODICA]', 'TRASTORNO DE ANSIEDAD, ORGANICO']\n",
      "                                   diagnostico_ingreso codigo_dx_ingreso  \\\n",
      "0              TRASTORNO MIXTO DE ANSIEDAD Y DEPRESION              F412   \n",
      "9              TRASTORNO DE ANSIEDAD , NO ESPECIFICADO              F419   \n",
      "23                  TRASTORNO DE ANSIEDAD GENERALIZADA              F411   \n",
      "24                     TRASTORNO DE ANSIEDAD, ORGANICO              F064   \n",
      "39       TRASTORNO FOBICO DE ANSIEDAD, NO ESPECIFICADO              F409   \n",
      "53                 OTROS TRASTORNOS DE ANSIEDAD MIXTOS              F413   \n",
      "59                OTROS TRASTORNOS FOBICOS DE ANSIEDAD              F408   \n",
      "67   TRASTORNO DE PANICO [ANSIEDAD PAROXISTICA EPIS...              F410   \n",
      "88             TRASTORNO MIXTO DE ANSIEDAD Y DEPRESION              F412   \n",
      "96             TRASTORNO DE ANSIEDAD , NO ESPECIFICADO              F419   \n",
      "115                 TRASTORNO DE ANSIEDAD GENERALIZADA              F411   \n",
      "122                OTROS TRASTORNOS DE ANSIEDAD MIXTOS              F413   \n",
      "\n",
      "     Menor a 1  De 1 a 4  De 5 a 9  De 10 a 14  De 15 a 19  De 20 a 49  \\\n",
      "0            0         0         0          10           9          31   \n",
      "9            0         0         1           4           0           5   \n",
      "23           0         0         0           0           2           0   \n",
      "24           0         0         0           0           0           2   \n",
      "39           0         0         0           0           1           1   \n",
      "53           0         0         0           0           0           1   \n",
      "59           0         0         0           0           0           1   \n",
      "67           0         0         0           0           0           1   \n",
      "88           0         0         0           8           8          19   \n",
      "96           0         0         0           0           2           5   \n",
      "115          0         0         0           0           0           1   \n",
      "122          0         0         0           0           1           0   \n",
      "\n",
      "     De 50 a 64  65 Y MAS  Total  Año diagnóstico  \n",
      "0             8         2     60             2023  \n",
      "9             0         0     10             2023  \n",
      "23            0         1      3             2023  \n",
      "24            0         1      3             2023  \n",
      "39            0         0      2             2023  \n",
      "53            0         0      1             2023  \n",
      "59            0         0      1             2023  \n",
      "67            0         0      1             2023  \n",
      "88            5         5     45             2022  \n",
      "96            1         2     10             2022  \n",
      "115           1         0      2             2022  \n",
      "122           0         0      1             2022  \n"
     ]
    }
   ],
   "source": [
    "algo_inters= input(\"Ingresa enfermedades de interes o palabras: \").upper()\n",
    "#algo_inters= input(\"Ingresa enfermedades de interes o palabras: \").upper()\n",
    "lista=set(df[\"diagnostico_ingreso\"].unique())\n",
    "try:\n",
    "    #lista_string = \"ansiedad depresion panico\".split(\" \")\n",
    "    lista_filtrada=[x for x in lista if algo_inters in x]\n",
    "    if len(lista_filtrada)>0:\n",
    "        print(lista_filtrada)\n",
    "        info_filtrada=df[df[\"diagnostico_ingreso\"].isin(lista_filtrada)]\n",
    "        print(info_filtrada)\n",
    "    else:\n",
    "        print(\"No encontre tus keywords\")\n",
    "except:\n",
    "    print(\"Hubo error intenta de nuevo\")"
   ]
  },
  {
   "cell_type": "markdown",
   "metadata": {},
   "source": [
    "**Columnas de interes**: X1, X2 y X3 porque\n"
   ]
  },
  {
   "cell_type": "markdown",
   "metadata": {},
   "source": [
    "# Polars"
   ]
  },
  {
   "cell_type": "code",
   "execution_count": 5,
   "metadata": {},
   "outputs": [
    {
     "name": "stdout",
     "output_type": "stream",
     "text": [
      "/Users/davidusta/Desktop/Bootcamp-DS-2024-I/Clase 6\n"
     ]
    },
    {
     "data": {
      "text/plain": [
       "'Salud_Mental_20240725.csv'"
      ]
     },
     "execution_count": 5,
     "metadata": {},
     "output_type": "execute_result"
    }
   ],
   "source": [
    "import pandas as pd\n",
    "#import numpy as np\n",
    "import os\n",
    "import warnings\n",
    "warnings.filterwarnings(\"ignore\")\n",
    "path= os.getcwd()\n",
    "print(path)\n",
    "#print(os.listdir())\n",
    "file_name=[x for x in os.listdir() if 'Salud_' in x][0]\n",
    "file_name"
   ]
  },
  {
   "cell_type": "code",
   "execution_count": null,
   "metadata": {},
   "outputs": [],
   "source": [
    "!pip install polars"
   ]
  },
  {
   "cell_type": "code",
   "execution_count": 28,
   "metadata": {},
   "outputs": [
    {
     "data": {
      "text/html": [
       "<div><style>\n",
       ".dataframe > thead > tr,\n",
       ".dataframe > tbody > tr {\n",
       "  text-align: right;\n",
       "  white-space: pre-wrap;\n",
       "}\n",
       "</style>\n",
       "<small>shape: (142, 12)</small><table border=\"1\" class=\"dataframe\"><thead><tr><th>diagnostico_ingreso</th><th>codigo_dx_ingreso</th><th>Menor a 1</th><th>De 1 a 4</th><th>De 5 a 9</th><th>De 10 a 14</th><th>De 15 a 19</th><th>De 20 a 49</th><th>De 50 a 64</th><th>65 Y MAS</th><th>Total</th><th>Año diagnóstico</th></tr><tr><td>str</td><td>str</td><td>i64</td><td>i64</td><td>i64</td><td>i64</td><td>i64</td><td>i64</td><td>i64</td><td>i64</td><td>i64</td><td>i64</td></tr></thead><tbody><tr><td>&quot;TRASTORNO MIXTO DE ANSIEDAD Y …</td><td>&quot;F412&quot;</td><td>0</td><td>0</td><td>0</td><td>10</td><td>9</td><td>31</td><td>8</td><td>2</td><td>60</td><td>2023</td></tr><tr><td>&quot;EPISODIO DEPRESIVO GRAVE SIN S…</td><td>&quot;F322&quot;</td><td>0</td><td>0</td><td>0</td><td>10</td><td>10</td><td>31</td><td>4</td><td>3</td><td>58</td><td>2023</td></tr><tr><td>&quot;EPISODIO DEPRESIVO MODERADO&quot;</td><td>&quot;F321&quot;</td><td>0</td><td>0</td><td>0</td><td>3</td><td>2</td><td>11</td><td>1</td><td>4</td><td>21</td><td>2023</td></tr><tr><td>&quot;TRASTORNO AFECTIVO BIPOLAR, NO…</td><td>&quot;F319&quot;</td><td>0</td><td>0</td><td>0</td><td>1</td><td>1</td><td>12</td><td>4</td><td>1</td><td>19</td><td>2023</td></tr><tr><td>&quot;ESQUIZOFRENIA, NO ESPECIFICADA&quot;</td><td>&quot;F209&quot;</td><td>0</td><td>0</td><td>0</td><td>1</td><td>0</td><td>14</td><td>0</td><td>0</td><td>15</td><td>2023</td></tr><tr><td>&hellip;</td><td>&hellip;</td><td>&hellip;</td><td>&hellip;</td><td>&hellip;</td><td>&hellip;</td><td>&hellip;</td><td>&hellip;</td><td>&hellip;</td><td>&hellip;</td><td>&hellip;</td><td>&hellip;</td></tr><tr><td>&quot;TRASTORNOS MENTALES Y DEL COMP…</td><td>&quot;F165&quot;</td><td>0</td><td>0</td><td>0</td><td>0</td><td>0</td><td>1</td><td>0</td><td>0</td><td>1</td><td>2022</td></tr><tr><td>&quot;TRASTORNOS MENTALES Y DEL COMP…</td><td>&quot;F123&quot;</td><td>0</td><td>0</td><td>0</td><td>0</td><td>0</td><td>1</td><td>0</td><td>0</td><td>1</td><td>2022</td></tr><tr><td>&quot;TRASTORNOS MENTALES Y DEL COMP…</td><td>&quot;F190&quot;</td><td>0</td><td>0</td><td>0</td><td>1</td><td>0</td><td>0</td><td>0</td><td>0</td><td>1</td><td>2022</td></tr><tr><td>&quot;TRASTORNOS MENTALES Y DEL COMP…</td><td>&quot;F195&quot;</td><td>0</td><td>0</td><td>0</td><td>0</td><td>0</td><td>1</td><td>0</td><td>0</td><td>1</td><td>2022</td></tr><tr><td>&quot;TRASTORNOS MENTALES Y DEL COMP…</td><td>&quot;F100&quot;</td><td>0</td><td>0</td><td>0</td><td>0</td><td>0</td><td>1</td><td>0</td><td>0</td><td>1</td><td>2022</td></tr></tbody></table></div>"
      ],
      "text/plain": [
       "shape: (142, 12)\n",
       "┌─────────────┬────────────┬───────────┬──────────┬───┬────────────┬──────────┬───────┬────────────┐\n",
       "│ diagnostico ┆ codigo_dx_ ┆ Menor a 1 ┆ De 1 a 4 ┆ … ┆ De 50 a 64 ┆ 65 Y MAS ┆ Total ┆ Año diagnó │\n",
       "│ _ingreso    ┆ ingreso    ┆ ---       ┆ ---      ┆   ┆ ---        ┆ ---      ┆ ---   ┆ stico      │\n",
       "│ ---         ┆ ---        ┆ i64       ┆ i64      ┆   ┆ i64        ┆ i64      ┆ i64   ┆ ---        │\n",
       "│ str         ┆ str        ┆           ┆          ┆   ┆            ┆          ┆       ┆ i64        │\n",
       "╞═════════════╪════════════╪═══════════╪══════════╪═══╪════════════╪══════════╪═══════╪════════════╡\n",
       "│ TRASTORNO   ┆ F412       ┆ 0         ┆ 0        ┆ … ┆ 8          ┆ 2        ┆ 60    ┆ 2023       │\n",
       "│ MIXTO DE    ┆            ┆           ┆          ┆   ┆            ┆          ┆       ┆            │\n",
       "│ ANSIEDAD Y  ┆            ┆           ┆          ┆   ┆            ┆          ┆       ┆            │\n",
       "│ …           ┆            ┆           ┆          ┆   ┆            ┆          ┆       ┆            │\n",
       "│ EPISODIO    ┆ F322       ┆ 0         ┆ 0        ┆ … ┆ 4          ┆ 3        ┆ 58    ┆ 2023       │\n",
       "│ DEPRESIVO   ┆            ┆           ┆          ┆   ┆            ┆          ┆       ┆            │\n",
       "│ GRAVE SIN   ┆            ┆           ┆          ┆   ┆            ┆          ┆       ┆            │\n",
       "│ S…          ┆            ┆           ┆          ┆   ┆            ┆          ┆       ┆            │\n",
       "│ EPISODIO    ┆ F321       ┆ 0         ┆ 0        ┆ … ┆ 1          ┆ 4        ┆ 21    ┆ 2023       │\n",
       "│ DEPRESIVO   ┆            ┆           ┆          ┆   ┆            ┆          ┆       ┆            │\n",
       "│ MODERADO    ┆            ┆           ┆          ┆   ┆            ┆          ┆       ┆            │\n",
       "│ TRASTORNO   ┆ F319       ┆ 0         ┆ 0        ┆ … ┆ 4          ┆ 1        ┆ 19    ┆ 2023       │\n",
       "│ AFECTIVO    ┆            ┆           ┆          ┆   ┆            ┆          ┆       ┆            │\n",
       "│ BIPOLAR,    ┆            ┆           ┆          ┆   ┆            ┆          ┆       ┆            │\n",
       "│ NO…         ┆            ┆           ┆          ┆   ┆            ┆          ┆       ┆            │\n",
       "│ ESQUIZOFREN ┆ F209       ┆ 0         ┆ 0        ┆ … ┆ 0          ┆ 0        ┆ 15    ┆ 2023       │\n",
       "│ IA, NO ESPE ┆            ┆           ┆          ┆   ┆            ┆          ┆       ┆            │\n",
       "│ CIFICADA    ┆            ┆           ┆          ┆   ┆            ┆          ┆       ┆            │\n",
       "│ …           ┆ …          ┆ …         ┆ …        ┆ … ┆ …          ┆ …        ┆ …     ┆ …          │\n",
       "│ TRASTORNOS  ┆ F165       ┆ 0         ┆ 0        ┆ … ┆ 0          ┆ 0        ┆ 1     ┆ 2022       │\n",
       "│ MENTALES Y  ┆            ┆           ┆          ┆   ┆            ┆          ┆       ┆            │\n",
       "│ DEL COMP…   ┆            ┆           ┆          ┆   ┆            ┆          ┆       ┆            │\n",
       "│ TRASTORNOS  ┆ F123       ┆ 0         ┆ 0        ┆ … ┆ 0          ┆ 0        ┆ 1     ┆ 2022       │\n",
       "│ MENTALES Y  ┆            ┆           ┆          ┆   ┆            ┆          ┆       ┆            │\n",
       "│ DEL COMP…   ┆            ┆           ┆          ┆   ┆            ┆          ┆       ┆            │\n",
       "│ TRASTORNOS  ┆ F190       ┆ 0         ┆ 0        ┆ … ┆ 0          ┆ 0        ┆ 1     ┆ 2022       │\n",
       "│ MENTALES Y  ┆            ┆           ┆          ┆   ┆            ┆          ┆       ┆            │\n",
       "│ DEL COMP…   ┆            ┆           ┆          ┆   ┆            ┆          ┆       ┆            │\n",
       "│ TRASTORNOS  ┆ F195       ┆ 0         ┆ 0        ┆ … ┆ 0          ┆ 0        ┆ 1     ┆ 2022       │\n",
       "│ MENTALES Y  ┆            ┆           ┆          ┆   ┆            ┆          ┆       ┆            │\n",
       "│ DEL COMP…   ┆            ┆           ┆          ┆   ┆            ┆          ┆       ┆            │\n",
       "│ TRASTORNOS  ┆ F100       ┆ 0         ┆ 0        ┆ … ┆ 0          ┆ 0        ┆ 1     ┆ 2022       │\n",
       "│ MENTALES Y  ┆            ┆           ┆          ┆   ┆            ┆          ┆       ┆            │\n",
       "│ DEL COMP…   ┆            ┆           ┆          ┆   ┆            ┆          ┆       ┆            │\n",
       "└─────────────┴────────────┴───────────┴──────────┴───┴────────────┴──────────┴───────┴────────────┘"
      ]
     },
     "execution_count": 28,
     "metadata": {},
     "output_type": "execute_result"
    }
   ],
   "source": [
    "import polars as pl\n",
    "df= pl.read_csv(\n",
    "    source=f\"{path}/{file_name}\",\n",
    "    separator=\",\"\n",
    "    )\n",
    "df"
   ]
  },
  {
   "cell_type": "code",
   "execution_count": 18,
   "metadata": {},
   "outputs": [
    {
     "data": {
      "text/plain": [
       "polars.dataframe.frame.DataFrame"
      ]
     },
     "execution_count": 18,
     "metadata": {},
     "output_type": "execute_result"
    }
   ],
   "source": [
    "type(df)"
   ]
  },
  {
   "cell_type": "code",
   "execution_count": 17,
   "metadata": {},
   "outputs": [
    {
     "name": "stdout",
     "output_type": "stream",
     "text": [
      "142\n",
      "['diagnostico_ingreso', 'codigo_dx_ingreso', 'Menor a 1', 'De 1 a 4', 'De 5 a 9', 'De 10 a 14', 'De 15 a 19', 'De 20 a 49', 'De 50 a 64', '65 Y MAS', 'Total', 'Año diagnóstico']\n",
      "[String, String, Int64, Int64, Int64, Int64, Int64, Int64, Int64, Int64, Int64, Int64]\n",
      "Schema([('diagnostico_ingreso', String), ('codigo_dx_ingreso', String), ('Menor a 1', Int64), ('De 1 a 4', Int64), ('De 5 a 9', Int64), ('De 10 a 14', Int64), ('De 15 a 19', Int64), ('De 20 a 49', Int64), ('De 50 a 64', Int64), ('65 Y MAS', Int64), ('Total', Int64), ('Año diagnóstico', Int64)])\n",
      "(142, 12)\n"
     ]
    }
   ],
   "source": [
    "# Atributos relevantes de un polars.DataFrame\n",
    "print(df.height) # filas\n",
    "print(df.columns) # Columnas\n",
    "print(df.dtypes) # Tipos de datos \n",
    "print(df.schema) # Schema\n",
    "print(df.shape) # filas x columnas"
   ]
  },
  {
   "cell_type": "code",
   "execution_count": 55,
   "metadata": {},
   "outputs": [
    {
     "data": {
      "text/html": [
       "<div><style>\n",
       ".dataframe > thead > tr,\n",
       ".dataframe > tbody > tr {\n",
       "  text-align: right;\n",
       "  white-space: pre-wrap;\n",
       "}\n",
       "</style>\n",
       "<small>shape: (99, 2)</small><table border=\"1\" class=\"dataframe\"><thead><tr><th>diagnostico_ingreso</th><th>Conteo</th></tr><tr><td>str</td><td>i64</td></tr></thead><tbody><tr><td>&quot;EPISODIO DEPRESIVO GRAVE SIN S…</td><td>133</td></tr><tr><td>&quot;TRASTORNO MIXTO DE ANSIEDAD Y …</td><td>105</td></tr><tr><td>&quot;ESQUIZOFRENIA, NO ESPECIFICADA&quot;</td><td>30</td></tr><tr><td>&quot;TRASTORNO AFECTIVO BIPOLAR, EP…</td><td>28</td></tr><tr><td>&quot;EPISODIO DEPRESIVO MODERADO&quot;</td><td>27</td></tr><tr><td>&hellip;</td><td>&hellip;</td></tr><tr><td>&quot;TRASTORNOS MENTALES Y DEL COMP…</td><td>1</td></tr><tr><td>&quot;TRASTORNO PSICOTICO AGUDO Y TR…</td><td>1</td></tr><tr><td>&quot;TRASTORNOS MENTALES Y DEL COMP…</td><td>1</td></tr><tr><td>&quot;OTROS TRASTORNOS ESPECIFICOS D…</td><td>1</td></tr><tr><td>&quot;TRASTORNOS DISOCIATIVOS MIXTOS…</td><td>1</td></tr></tbody></table></div>"
      ],
      "text/plain": [
       "shape: (99, 2)\n",
       "┌─────────────────────────────────┬────────┐\n",
       "│ diagnostico_ingreso             ┆ Conteo │\n",
       "│ ---                             ┆ ---    │\n",
       "│ str                             ┆ i64    │\n",
       "╞═════════════════════════════════╪════════╡\n",
       "│ EPISODIO DEPRESIVO GRAVE SIN S… ┆ 133    │\n",
       "│ TRASTORNO MIXTO DE ANSIEDAD Y … ┆ 105    │\n",
       "│ ESQUIZOFRENIA, NO ESPECIFICADA  ┆ 30     │\n",
       "│ TRASTORNO AFECTIVO BIPOLAR, EP… ┆ 28     │\n",
       "│ EPISODIO DEPRESIVO MODERADO     ┆ 27     │\n",
       "│ …                               ┆ …      │\n",
       "│ TRASTORNOS MENTALES Y DEL COMP… ┆ 1      │\n",
       "│ TRASTORNO PSICOTICO AGUDO Y TR… ┆ 1      │\n",
       "│ TRASTORNOS MENTALES Y DEL COMP… ┆ 1      │\n",
       "│ OTROS TRASTORNOS ESPECIFICOS D… ┆ 1      │\n",
       "│ TRASTORNOS DISOCIATIVOS MIXTOS… ┆ 1      │\n",
       "└─────────────────────────────────┴────────┘"
      ]
     },
     "execution_count": 55,
     "metadata": {},
     "output_type": "execute_result"
    }
   ],
   "source": [
    "# Metodos \n",
    "## 1. Sorting\n",
    "df.sort([\"diagnostico_ingreso\",\"codigo_dx_ingreso\"],descending=False)\n",
    "df.sort([\"Año diagnóstico\"],descending=False)\n",
    "## 2. Filtros\n",
    "df.filter(pl.col(\"Año diagnóstico\")==2022) # filtrar year 2022\n",
    "df.filter(pl.col(\"Año diagnóstico\")!=2022) \n",
    "\n",
    "df.filter(\n",
    "    (pl.col(\"Año diagnóstico\")==2022) &\n",
    "    (pl.col(\"Total\")> 10)\n",
    ") \n",
    "## 3. Creacion de columnas\n",
    "df.with_columns(\n",
    "    (pl.col(\"Menor a 1\")+pl.col(\"De 1 a 4\")+pl.col(\"65 Y MAS\")).alias(\"Resultado\"),\n",
    "    (pl.col(\"Menor a 1\")+pl.col(\"De 1 a 4\")+pl.col(\"65 Y MAS\")).alias(\"Resultado2\"),\n",
    ")\n",
    "## 4. Elegir columnas (subset)\n",
    "df.select(\"codigo_dx_ingreso\",\"De 1 a 4\") # Elegir columnas\n",
    "## 5. Transformaciones sobre selects\n",
    "df.select(\n",
    "    [\n",
    "        pl.col(\"diagnostico_ingreso\").str.to_lowercase().alias(\"Columna David\"),\n",
    "        pl.col(\"diagnostico_ingreso\").str.contains(\"episodio\").alias(\"Episodio_bool\")\n",
    "    ]\n",
    ")\n",
    "## 6. Agregacion \n",
    "df.select(\"diagnostico_ingreso\",\"Total\").group_by(\"diagnostico_ingreso\").agg(\n",
    "    [\n",
    "        pl.col(\"Total\").sum().alias(\"Conteo\")\n",
    "    ]\n",
    ").sort(\"Conteo\", descending=True)"
   ]
  }
 ],
 "metadata": {
  "kernelspec": {
   "display_name": "Python 3",
   "language": "python",
   "name": "python3"
  },
  "language_info": {
   "codemirror_mode": {
    "name": "ipython",
    "version": 3
   },
   "file_extension": ".py",
   "mimetype": "text/x-python",
   "name": "python",
   "nbconvert_exporter": "python",
   "pygments_lexer": "ipython3",
   "version": "3.9.20"
  }
 },
 "nbformat": 4,
 "nbformat_minor": 2
}
