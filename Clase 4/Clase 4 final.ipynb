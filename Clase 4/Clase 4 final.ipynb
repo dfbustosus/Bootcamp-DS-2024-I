{
 "cells": [
  {
   "cell_type": "markdown",
   "metadata": {},
   "source": [
    "# Bool"
   ]
  },
  {
   "cell_type": "code",
   "execution_count": 4,
   "metadata": {},
   "outputs": [
    {
     "name": "stdout",
     "output_type": "stream",
     "text": [
      "<class 'bool'>\n"
     ]
    },
    {
     "data": {
      "text/plain": [
       "1"
      ]
     },
     "execution_count": 4,
     "metadata": {},
     "output_type": "execute_result"
    }
   ],
   "source": [
    "a= True\n",
    "print(type(a))\n",
    "a+1\n",
    "b= False\n",
    "b+1"
   ]
  },
  {
   "cell_type": "markdown",
   "metadata": {},
   "source": [
    "# Listas\n",
    "\n",
    "```python\n",
    "lista_homogenea= [1,3,4,5,6]\n",
    "lista_heterogenea= [1,2.34,True,1+2j,2.2]\n",
    "```"
   ]
  },
  {
   "cell_type": "code",
   "execution_count": 15,
   "metadata": {},
   "outputs": [
    {
     "name": "stdout",
     "output_type": "stream",
     "text": [
      "[1, 2.3, True, 'David']\n",
      "[1, 2, 3, True, (1+2j)]\n"
     ]
    }
   ],
   "source": [
    "# 1. Listas\n",
    "# 1.1 Homegeneas\n",
    "lista = [1,2,3,3,4]\n",
    "type(lista)\n",
    "# 1.2 Heterogenas\n",
    "lista_1=[1,2.3, True,'David']\n",
    "print(lista_1)\n",
    "lista_de_otra_forma= list((1,2,3,True,1+2j))\n",
    "print(lista_de_otra_forma)"
   ]
  },
  {
   "cell_type": "code",
   "execution_count": 28,
   "metadata": {},
   "outputs": [
    {
     "data": {
      "text/plain": [
       "[10, 2, 3, 3, 4]"
      ]
     },
     "execution_count": 28,
     "metadata": {},
     "output_type": "execute_result"
    }
   ],
   "source": [
    "#help(list)\n",
    "lista = [1,2,3,3,4]\n",
    "lista[0]=10 # Mutabilidad\n",
    "lista"
   ]
  },
  {
   "cell_type": "code",
   "execution_count": 29,
   "metadata": {},
   "outputs": [
    {
     "data": {
      "text/plain": [
       "['__add__',\n",
       " '__class__',\n",
       " '__class_getitem__',\n",
       " '__contains__',\n",
       " '__delattr__',\n",
       " '__delitem__',\n",
       " '__dir__',\n",
       " '__doc__',\n",
       " '__eq__',\n",
       " '__format__',\n",
       " '__ge__',\n",
       " '__getattribute__',\n",
       " '__getitem__',\n",
       " '__gt__',\n",
       " '__hash__',\n",
       " '__iadd__',\n",
       " '__imul__',\n",
       " '__init__',\n",
       " '__init_subclass__',\n",
       " '__iter__',\n",
       " '__le__',\n",
       " '__len__',\n",
       " '__lt__',\n",
       " '__mul__',\n",
       " '__ne__',\n",
       " '__new__',\n",
       " '__reduce__',\n",
       " '__reduce_ex__',\n",
       " '__repr__',\n",
       " '__reversed__',\n",
       " '__rmul__',\n",
       " '__setattr__',\n",
       " '__setitem__',\n",
       " '__sizeof__',\n",
       " '__str__',\n",
       " '__subclasshook__',\n",
       " 'append',\n",
       " 'clear',\n",
       " 'copy',\n",
       " 'count',\n",
       " 'extend',\n",
       " 'index',\n",
       " 'insert',\n",
       " 'pop',\n",
       " 'remove',\n",
       " 'reverse',\n",
       " 'sort']"
      ]
     },
     "execution_count": 29,
     "metadata": {},
     "output_type": "execute_result"
    }
   ],
   "source": [
    "dir(list()) # Sirve para mostrar los atributos y funciones de un objeto"
   ]
  },
  {
   "cell_type": "code",
   "execution_count": 73,
   "metadata": {},
   "outputs": [
    {
     "name": "stdout",
     "output_type": "stream",
     "text": [
      "[]\n",
      "[1, 2, 3, 'David', True, False, 1, 1, 2, 3, 1, 1]\n",
      "1\n",
      "6\n",
      "1\n",
      "1\n",
      "[1, 2, 3, 'David', True, False, 1, 'Juan', 1, 2, 3, 1, 1, 1, 2]\n",
      "[2, 1, 1, 1, 3, 2, 1, 'Juan', 1, False, True, 'David', 3, 1]\n",
      "[1, 2, 3]\n"
     ]
    }
   ],
   "source": [
    "lista=[1,2,3,'David',True,False]\n",
    "# 1. Append >>>>>>>>\n",
    "lista.append('Juan')\n",
    "#lista.append([1,2])\n",
    "# 2. clear\n",
    "lista.clear()\n",
    "print(lista)\n",
    "# 3. copy\n",
    "lista=[1,2,3,'David',True,False,1,1,2,3,1,1]\n",
    "lista_2= lista.copy()\n",
    "print(lista_2)\n",
    "# 4. count >>>>>>>>>\n",
    "print(lista.count('David'))\n",
    "print(lista.count(1))\n",
    "print(lista.count(0))\n",
    "# 5. extend\n",
    "lista.extend([1,2,3])\n",
    "# 6. index >>>>>>>\n",
    "print(lista.index(2))\n",
    "# 7. insert\n",
    "lista.insert(7,'Juan')\n",
    "# 8. pop\n",
    "lista.pop()\n",
    "print(lista)\n",
    "lista.pop(1)\n",
    "# 9. remove >>>>>>\n",
    "#lista.remove('Juan X')\n",
    "#print(lista)\n",
    "# 10. reverse\n",
    "lista.reverse()\n",
    "print(lista)\n",
    "# 11. sort\n",
    "lista_p= [1,2,3,]\n",
    "#lista_p.sort(reverse=False)\n",
    "lista_p.sort()\n",
    "print(lista_p)"
   ]
  },
  {
   "cell_type": "code",
   "execution_count": 77,
   "metadata": {},
   "outputs": [
    {
     "name": "stdout",
     "output_type": "stream",
     "text": [
      "[2, 1, 1, 1, 3, 2, 1, 'Juan', 1, False, True, 'David', 3, 1]\n"
     ]
    },
    {
     "data": {
      "text/plain": [
       "14"
      ]
     },
     "execution_count": 77,
     "metadata": {},
     "output_type": "execute_result"
    }
   ],
   "source": [
    "print(lista)\n",
    "len(lista)"
   ]
  },
  {
   "cell_type": "markdown",
   "metadata": {},
   "source": [
    "# Tuplas"
   ]
  },
  {
   "cell_type": "code",
   "execution_count": 90,
   "metadata": {},
   "outputs": [
    {
     "name": "stdout",
     "output_type": "stream",
     "text": [
      "<class 'tuple'>\n",
      "(1, 3, False)\n"
     ]
    },
    {
     "data": {
      "text/plain": [
       "list"
      ]
     },
     "execution_count": 90,
     "metadata": {},
     "output_type": "execute_result"
    }
   ],
   "source": [
    "tupla_1 = (1,2,True, False, 1+3j)\n",
    "print(type(tupla_1))\n",
    "tupla_2= tuple((1,3,False))\n",
    "print(tupla_2)\n",
    "# tupla_2[0]=10 # Inmutabilidad (No se puede)\n",
    "tupla_3= list(tupla_1) # Casting !!"
   ]
  },
  {
   "cell_type": "code",
   "execution_count": 96,
   "metadata": {},
   "outputs": [
    {
     "data": {
      "text/plain": [
       "5"
      ]
     },
     "execution_count": 96,
     "metadata": {},
     "output_type": "execute_result"
    }
   ],
   "source": [
    "#help(tuple())\n",
    "tupla_1.count('David')\n",
    "tupla_1.index(False)\n",
    "len(tupla_1)"
   ]
  },
  {
   "cell_type": "code",
   "execution_count": 108,
   "metadata": {},
   "outputs": [],
   "source": [
    "#prueba=[1,2,3,4,True, False, 1+3j]\n",
    "#[x for x in prueba if type(x)==complex]"
   ]
  },
  {
   "attachments": {
    "image-2.png": {
     "image/png": "[encoded data removed]"
    }
   },
   "cell_type": "markdown",
   "metadata": {},
   "source": [
    "# Sets\n",
    "\n",
    "![image-2.png](attachment:image-2.png)"
   ]
  },
  {
   "cell_type": "code",
   "execution_count": 115,
   "metadata": {},
   "outputs": [
    {
     "data": {
      "text/plain": [
       "set"
      ]
     },
     "execution_count": 115,
     "metadata": {},
     "output_type": "execute_result"
    }
   ],
   "source": [
    "#help(set())\n",
    "set_1= {1,2,3,4}\n",
    "set_2=set((1,2,3))\n",
    "type(set_2)"
   ]
  },
  {
   "cell_type": "code",
   "execution_count": 116,
   "metadata": {},
   "outputs": [
    {
     "data": {
      "text/plain": [
       "['__and__',\n",
       " '__class__',\n",
       " '__class_getitem__',\n",
       " '__contains__',\n",
       " '__delattr__',\n",
       " '__dir__',\n",
       " '__doc__',\n",
       " '__eq__',\n",
       " '__format__',\n",
       " '__ge__',\n",
       " '__getattribute__',\n",
       " '__gt__',\n",
       " '__hash__',\n",
       " '__iand__',\n",
       " '__init__',\n",
       " '__init_subclass__',\n",
       " '__ior__',\n",
       " '__isub__',\n",
       " '__iter__',\n",
       " '__ixor__',\n",
       " '__le__',\n",
       " '__len__',\n",
       " '__lt__',\n",
       " '__ne__',\n",
       " '__new__',\n",
       " '__or__',\n",
       " '__rand__',\n",
       " '__reduce__',\n",
       " '__reduce_ex__',\n",
       " '__repr__',\n",
       " '__ror__',\n",
       " '__rsub__',\n",
       " '__rxor__',\n",
       " '__setattr__',\n",
       " '__sizeof__',\n",
       " '__str__',\n",
       " '__sub__',\n",
       " '__subclasshook__',\n",
       " '__xor__',\n",
       " 'add',\n",
       " 'clear',\n",
       " 'copy',\n",
       " 'difference',\n",
       " 'difference_update',\n",
       " 'discard',\n",
       " 'intersection',\n",
       " 'intersection_update',\n",
       " 'isdisjoint',\n",
       " 'issubset',\n",
       " 'issuperset',\n",
       " 'pop',\n",
       " 'remove',\n",
       " 'symmetric_difference',\n",
       " 'symmetric_difference_update',\n",
       " 'union',\n",
       " 'update']"
      ]
     },
     "execution_count": 116,
     "metadata": {},
     "output_type": "execute_result"
    }
   ],
   "source": [
    "dir(set())"
   ]
  },
  {
   "cell_type": "code",
   "execution_count": 125,
   "metadata": {},
   "outputs": [
    {
     "name": "stdout",
     "output_type": "stream",
     "text": [
      "{456, 123}\n",
      "{456, 563, 567, 761, 123, 764}\n",
      "{764, 567}\n",
      "{761, 563}\n"
     ]
    },
    {
     "data": {
      "text/plain": [
       "{563, 567, 761, 764}"
      ]
     },
     "execution_count": 125,
     "metadata": {},
     "output_type": "execute_result"
    }
   ],
   "source": [
    "set_A= {123, 456, 567, 764}\n",
    "set_B= {123, 456, 563, 761}\n",
    "print(set_A.intersection(set_B))\n",
    "print(set_A.union(set_B))\n",
    "print(set_A.difference(set_B)) # ESTO NO ES SIMETRICO\n",
    "print(set_B.difference(set_A)) # ESTO NO ES SIMETRICO\n",
    "set_A.symmetric_difference(set_B) # EXCLUSIVE OR \n",
    "#set_A.issubset(set_B)"
   ]
  },
  {
   "cell_type": "code",
   "execution_count": 133,
   "metadata": {},
   "outputs": [
    {
     "data": {
      "text/plain": [
       "{5, 6, 7, 456, 567, 764}"
      ]
     },
     "execution_count": 133,
     "metadata": {},
     "output_type": "execute_result"
    }
   ],
   "source": [
    "set_A.discard(123)\n",
    "set_A.update({5,6,7})\n",
    "set_A"
   ]
  },
  {
   "cell_type": "markdown",
   "metadata": {},
   "source": [
    "# Dicts"
   ]
  },
  {
   "cell_type": "code",
   "execution_count": 150,
   "metadata": {},
   "outputs": [
    {
     "data": {
      "text/plain": [
       "['__class__',\n",
       " '__class_getitem__',\n",
       " '__contains__',\n",
       " '__delattr__',\n",
       " '__delitem__',\n",
       " '__dir__',\n",
       " '__doc__',\n",
       " '__eq__',\n",
       " '__format__',\n",
       " '__ge__',\n",
       " '__getattribute__',\n",
       " '__getitem__',\n",
       " '__gt__',\n",
       " '__hash__',\n",
       " '__init__',\n",
       " '__init_subclass__',\n",
       " '__ior__',\n",
       " '__iter__',\n",
       " '__le__',\n",
       " '__len__',\n",
       " '__lt__',\n",
       " '__ne__',\n",
       " '__new__',\n",
       " '__or__',\n",
       " '__reduce__',\n",
       " '__reduce_ex__',\n",
       " '__repr__',\n",
       " '__reversed__',\n",
       " '__ror__',\n",
       " '__setattr__',\n",
       " '__setitem__',\n",
       " '__sizeof__',\n",
       " '__str__',\n",
       " '__subclasshook__',\n",
       " 'clear',\n",
       " 'copy',\n",
       " 'fromkeys',\n",
       " 'get',\n",
       " 'items',\n",
       " 'keys',\n",
       " 'pop',\n",
       " 'popitem',\n",
       " 'setdefault',\n",
       " 'update',\n",
       " 'values']"
      ]
     },
     "execution_count": 150,
     "metadata": {},
     "output_type": "execute_result"
    }
   ],
   "source": [
    "#help(dict())\n",
    "dir(dict())"
   ]
  },
  {
   "cell_type": "code",
   "execution_count": 185,
   "metadata": {},
   "outputs": [
    {
     "data": {
      "text/plain": [
       "{'123445555': 'Sociedad Pepito',\n",
       " '123445768': 'Sociedad Juan',\n",
       " 1234555: 'David',\n",
       " True: 1234.45,\n",
       " 23.4: 'Pedro',\n",
       " (1, 2): 'Pedro',\n",
       " 4: 1}"
      ]
     },
     "execution_count": 185,
     "metadata": {},
     "output_type": "execute_result"
    }
   ],
   "source": [
    "diccionario_1 ={\n",
    "    \"123445555\" : \"Sociedad Pepito\",\n",
    "    \"123445768\" : \"Sociedad Juan\",\n",
    "    1234555 : \"David\",\n",
    "    True:  1234.45,\n",
    "    23.4: \"Pedro\",\n",
    "    (1,2): \"Pedro\",\n",
    "    #4: 2,\n",
    "    4: 1\n",
    "}\n",
    "type(diccionario_1)\n",
    "#diccionario_1.clear()\n",
    "diccionario_2= diccionario_1.copy()\n",
    "diccionario_2.get(\"123445555\",\"David\")\n",
    "diccionario_2.items()\n",
    "diccionario_2.keys()\n",
    "diccionario_2.values()\n",
    "#diccionario_2[12345551112]= 10\n",
    "diccionario_2"
   ]
  }
 ],
 "metadata": {
  "kernelspec": {
   "display_name": "Python 3",
   "language": "python",
   "name": "python3"
  },
  "language_info": {
   "codemirror_mode": {
    "name": "ipython",
    "version": 3
   },
   "file_extension": ".py",
   "mimetype": "text/x-python",
   "name": "python",
   "nbconvert_exporter": "python",
   "pygments_lexer": "ipython3",
   "version": "3.9.9"
  }
 },
 "nbformat": 4,
 "nbformat_minor": 2
}
