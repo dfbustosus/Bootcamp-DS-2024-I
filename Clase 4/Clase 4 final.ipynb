{
 "cells": [
  {
   "cell_type": "markdown",
   "metadata": {},
   "source": [
    "# 0. Data types\n",
    "**Datos primitivos**\n",
    " 1. Strings\n",
    " 2. Numeros (int, float, complex)\n",
    " 3. Booleanos (True/False)\n",
    " 4. None"
   ]
  },
  {
   "cell_type": "markdown",
   "metadata": {},
   "source": [
    "# 1. Bool"
   ]
  },
  {
   "cell_type": "code",
   "execution_count": 17,
   "metadata": {},
   "outputs": [
    {
     "name": "stdout",
     "output_type": "stream",
     "text": [
      "2\n",
      "<class 'bool'>\n",
      "1\n"
     ]
    }
   ],
   "source": [
    "a : bool= True;\n",
    "print(a+1)\n",
    "print(type(a));\n",
    "b: bool= False;\n",
    "print(b+1)\n",
    "b+1;"
   ]
  },
  {
   "cell_type": "code",
   "execution_count": 20,
   "metadata": {},
   "outputs": [
    {
     "data": {
      "text/plain": [
       "NoneType"
      ]
     },
     "execution_count": 20,
     "metadata": {},
     "output_type": "execute_result"
    }
   ],
   "source": [
    "c: None= None\n",
    "type(c)"
   ]
  },
  {
   "cell_type": "markdown",
   "metadata": {},
   "source": [
    "# 2. Listas\n",
    "\n",
    "**Son mutables**\n",
    "\n",
    "```python\n",
    "lista_homogenea= [1,3,4,5,6]\n",
    "lista_heterogenea= [1,2.34,True,1+2j,2.2]\n",
    "```"
   ]
  },
  {
   "cell_type": "code",
   "execution_count": 22,
   "metadata": {},
   "outputs": [
    {
     "name": "stdout",
     "output_type": "stream",
     "text": [
      "[1, 2.3, True, 'David']\n",
      "[1, 2, 3, True, (1+2j)]\n"
     ]
    }
   ],
   "source": [
    "from pydantic import BaseModel\n",
    "from typing import Any, List, Dict, Tuple, Set\n",
    "# 1. Listas\n",
    "# 1.1 Homegeneas\n",
    "lista: List[int] = [1,2,3,3,4];\n",
    "lista = [1,2,3,3,4];\n",
    "type(lista);\n",
    "# 1.2 Heterogenas\n",
    "lista_1: List[Any]=[1,2.3, True,'David'];\n",
    "lista_1=[1,2.3, True,'David']\n",
    "print(lista_1);\n",
    "lista_de_otra_forma: list[Any]= list((1,2,3,True,1+2j));\n",
    "print(lista_de_otra_forma);"
   ]
  },
  {
   "cell_type": "code",
   "execution_count": 25,
   "metadata": {},
   "outputs": [
    {
     "data": {
      "text/plain": [
       "[1, 2, 3]"
      ]
     },
     "execution_count": 25,
     "metadata": {},
     "output_type": "execute_result"
    }
   ],
   "source": [
    "list_d= list((1,2,3));\n",
    "list_d"
   ]
  },
  {
   "cell_type": "code",
   "execution_count": 28,
   "metadata": {},
   "outputs": [
    {
     "data": {
      "text/plain": [
       "[10, 2, 3, 3, 4]"
      ]
     },
     "execution_count": 28,
     "metadata": {},
     "output_type": "execute_result"
    }
   ],
   "source": [
    "#help(list)\n",
    "lista: List[int] = [1,2,3,3,4];\n",
    "lista[0]=10; # Mutabilidad\n",
    "lista"
   ]
  },
  {
   "cell_type": "code",
   "execution_count": 31,
   "metadata": {},
   "outputs": [
    {
     "data": {
      "text/plain": [
       "['__add__',\n",
       " '__class__',\n",
       " '__class_getitem__',\n",
       " '__contains__',\n",
       " '__delattr__',\n",
       " '__delitem__',\n",
       " '__dir__',\n",
       " '__doc__',\n",
       " '__eq__',\n",
       " '__format__',\n",
       " '__ge__',\n",
       " '__getattribute__',\n",
       " '__getitem__',\n",
       " '__gt__',\n",
       " '__hash__',\n",
       " '__iadd__',\n",
       " '__imul__',\n",
       " '__init__',\n",
       " '__init_subclass__',\n",
       " '__iter__',\n",
       " '__le__',\n",
       " '__len__',\n",
       " '__lt__',\n",
       " '__mul__',\n",
       " '__ne__',\n",
       " '__new__',\n",
       " '__reduce__',\n",
       " '__reduce_ex__',\n",
       " '__repr__',\n",
       " '__reversed__',\n",
       " '__rmul__',\n",
       " '__setattr__',\n",
       " '__setitem__',\n",
       " '__sizeof__',\n",
       " '__str__',\n",
       " '__subclasshook__',\n",
       " 'append',\n",
       " 'clear',\n",
       " 'copy',\n",
       " 'count',\n",
       " 'extend',\n",
       " 'index',\n",
       " 'insert',\n",
       " 'pop',\n",
       " 'remove',\n",
       " 'reverse',\n",
       " 'sort']"
      ]
     },
     "execution_count": 31,
     "metadata": {},
     "output_type": "execute_result"
    }
   ],
   "source": [
    "dir(list()) # Sirve para mostrar los atributos y funciones de un objeto"
   ]
  },
  {
   "cell_type": "code",
   "execution_count": 54,
   "metadata": {},
   "outputs": [
    {
     "name": "stdout",
     "output_type": "stream",
     "text": [
      "[]\n",
      "[1, 2, 3, 'David', True, False, 1, 1, 2, 3, 1, 1]\n",
      "1\n",
      "6\n",
      "1\n",
      "[1, 2, 3, 'David', True, False, 1, 1, 2, 3, 1, 1, 1, 2, 3]\n",
      "1\n",
      "[1, 2, 3, 'David', True, False, 1, 'Juan', 1, 2, 3, 1, 1, 1, 2, 3]\n",
      "3\n",
      "[1, 2, 3, 'David', True, False, 1, 'Juan', 1, 2, 3, 1, 1, 1, 2]\n",
      "[1, 3, 'David', True, False, 1, 1, 2, 3, 1, 1, 1, 2]\n",
      "[2, 1, 1, 1, 3, 2, 1, 1, False, True, 'David', 3, 1]\n",
      "[1, 2, 3]\n"
     ]
    }
   ],
   "source": [
    "lista: list[Any]=[1,2,3,'David',True,False];\n",
    "# 1. Append >>>>>>>> (agrega al final un elemento)\n",
    "lista.append('Juan')\n",
    "# 2. clear (Vacia lista)\n",
    "lista.clear()\n",
    "print(lista)\n",
    "# 3. copy (copia la lista en otra)\n",
    "lista: List[Any]=[1,2,3,'David',True,False,1,1,2,3,1,1];\n",
    "lista_2= lista.copy()\n",
    "print(lista_2)\n",
    "# 4. count >>>>>>>>> (cuenta cuntas veces aparece un elemento)\n",
    "print(lista.count('David'))\n",
    "print(lista.count(1))\n",
    "print(lista.count(0))\n",
    "# 5. extend (se usa para agregar listas)\n",
    "lista.extend([1,2,3])\n",
    "print(lista)\n",
    "# 6. index >>>>>>> (encontrar el indice donde vie un elemento)\n",
    "print(lista.index(2))\n",
    "# 7. insert\n",
    "lista.insert(7,'Juan')\n",
    "print(lista)\n",
    "# 8. pop\n",
    "elemento=lista.pop()\n",
    "print(elemento)\n",
    "print(lista)\n",
    "lista.pop(1)\n",
    "# 9. remove >>>>>>\n",
    "lista.remove('Juan')\n",
    "print(lista)\n",
    "# 10. reverse\n",
    "lista.reverse()\n",
    "print(lista)\n",
    "# 11. sort\n",
    "lista_p= [3,1,2,]\n",
    "#lista_p.sort(reverse=False)\n",
    "lista_p.sort(reverse=False)\n",
    "print(lista_p)"
   ]
  },
  {
   "cell_type": "code",
   "execution_count": 57,
   "metadata": {},
   "outputs": [
    {
     "name": "stdout",
     "output_type": "stream",
     "text": [
      "\u001b[0;31mSignature:\u001b[0m \u001b[0mlista_p\u001b[0m\u001b[0;34m.\u001b[0m\u001b[0msort\u001b[0m\u001b[0;34m(\u001b[0m\u001b[0;34m*\u001b[0m\u001b[0;34m,\u001b[0m \u001b[0mkey\u001b[0m\u001b[0;34m=\u001b[0m\u001b[0;32mNone\u001b[0m\u001b[0;34m,\u001b[0m \u001b[0mreverse\u001b[0m\u001b[0;34m=\u001b[0m\u001b[0;32mFalse\u001b[0m\u001b[0;34m)\u001b[0m\u001b[0;34m\u001b[0m\u001b[0;34m\u001b[0m\u001b[0m\n",
      "\u001b[0;31mDocstring:\u001b[0m\n",
      "Sort the list in ascending order and return None.\n",
      "\n",
      "The sort is in-place (i.e. the list itself is modified) and stable (i.e. the\n",
      "order of two equal elements is maintained).\n",
      "\n",
      "If a key function is given, apply it once to each list item and sort them,\n",
      "ascending or descending, according to their function values.\n",
      "\n",
      "The reverse flag can be set to sort in descending order.\n",
      "\u001b[0;31mType:\u001b[0m      builtin_function_or_method"
     ]
    }
   ],
   "source": [
    "lista_p.sort?"
   ]
  },
  {
   "cell_type": "code",
   "execution_count": 60,
   "metadata": {},
   "outputs": [
    {
     "name": "stdout",
     "output_type": "stream",
     "text": [
      "\u001b[0;31mSignature:\u001b[0m \u001b[0mlista\u001b[0m\u001b[0;34m.\u001b[0m\u001b[0mremove\u001b[0m\u001b[0;34m(\u001b[0m\u001b[0mvalue\u001b[0m\u001b[0;34m,\u001b[0m \u001b[0;34m/\u001b[0m\u001b[0;34m)\u001b[0m\u001b[0;34m\u001b[0m\u001b[0;34m\u001b[0m\u001b[0m\n",
      "\u001b[0;31mDocstring:\u001b[0m\n",
      "Remove first occurrence of value.\n",
      "\n",
      "Raises ValueError if the value is not present.\n",
      "\u001b[0;31mType:\u001b[0m      builtin_function_or_method"
     ]
    }
   ],
   "source": [
    "lista= [1,2,1,1,3,4,5]\n",
    "#lista.remove(1)\n",
    "#print(lista)\n",
    "lista.remove?"
   ]
  },
  {
   "cell_type": "code",
   "execution_count": 66,
   "metadata": {},
   "outputs": [
    {
     "data": {
      "text/plain": [
       "'1'"
      ]
     },
     "execution_count": 66,
     "metadata": {},
     "output_type": "execute_result"
    }
   ],
   "source": [
    "list(set(lista)) # Valores unicos"
   ]
  },
  {
   "cell_type": "code",
   "execution_count": 13,
   "metadata": {},
   "outputs": [
    {
     "name": "stdout",
     "output_type": "stream",
     "text": [
      "[2, 1, 1, 1, 3, 2, 1, 'Juan', 1, False, True, 'David', 3, 1]\n"
     ]
    },
    {
     "data": {
      "text/plain": [
       "14"
      ]
     },
     "execution_count": 13,
     "metadata": {},
     "output_type": "execute_result"
    }
   ],
   "source": [
    "print(lista)\n",
    "len(lista)"
   ]
  },
  {
   "cell_type": "code",
   "execution_count": 70,
   "metadata": {},
   "outputs": [
    {
     "data": {
      "text/plain": [
       "['Andres', 'Andrea']"
      ]
     },
     "execution_count": 70,
     "metadata": {},
     "output_type": "execute_result"
    }
   ],
   "source": [
    "lista= ['David','Andres','Pedro', 'Andrea']\n",
    "[x for x in lista if x[0]=='A'] # Lista por comprension !!!!"
   ]
  },
  {
   "cell_type": "markdown",
   "metadata": {},
   "source": [
    "# 3. Tuplas\n",
    "\n",
    "**Son inmutables: no se pueden cambiar luego de que se crean**"
   ]
  },
  {
   "cell_type": "code",
   "execution_count": 74,
   "metadata": {},
   "outputs": [
    {
     "name": "stdout",
     "output_type": "stream",
     "text": [
      "<class 'tuple'>\n",
      "(1, 3, False)\n"
     ]
    }
   ],
   "source": [
    "from pydantic import BaseModel\n",
    "from typing import Any, List, Dict, Tuple, Set\n",
    "tupla_1: Tuple[Any] = (1,2,True, False, 1+3j)\n",
    "print(type(tupla_1))\n",
    "tupla_2: Tuple[Any]= tuple((1,3,False))\n",
    "print(tupla_2)\n",
    "# tupla_2[0]=10 # Inmutabilidad (No se puede)\n",
    "tupla_3= list(tupla_1) # Casting !!"
   ]
  },
  {
   "cell_type": "code",
   "execution_count": 80,
   "metadata": {},
   "outputs": [
    {
     "data": {
      "text/plain": [
       "(1, 2, 3)"
      ]
     },
     "execution_count": 80,
     "metadata": {},
     "output_type": "execute_result"
    }
   ],
   "source": [
    "tuple((1,2,3))"
   ]
  },
  {
   "cell_type": "code",
   "execution_count": 75,
   "metadata": {},
   "outputs": [
    {
     "data": {
      "text/plain": [
       "['__add__',\n",
       " '__class__',\n",
       " '__class_getitem__',\n",
       " '__contains__',\n",
       " '__delattr__',\n",
       " '__dir__',\n",
       " '__doc__',\n",
       " '__eq__',\n",
       " '__format__',\n",
       " '__ge__',\n",
       " '__getattribute__',\n",
       " '__getitem__',\n",
       " '__getnewargs__',\n",
       " '__gt__',\n",
       " '__hash__',\n",
       " '__init__',\n",
       " '__init_subclass__',\n",
       " '__iter__',\n",
       " '__le__',\n",
       " '__len__',\n",
       " '__lt__',\n",
       " '__mul__',\n",
       " '__ne__',\n",
       " '__new__',\n",
       " '__reduce__',\n",
       " '__reduce_ex__',\n",
       " '__repr__',\n",
       " '__rmul__',\n",
       " '__setattr__',\n",
       " '__sizeof__',\n",
       " '__str__',\n",
       " '__subclasshook__',\n",
       " 'count',\n",
       " 'index']"
      ]
     },
     "execution_count": 75,
     "metadata": {},
     "output_type": "execute_result"
    }
   ],
   "source": [
    "dir(tuple())"
   ]
  },
  {
   "cell_type": "code",
   "execution_count": 76,
   "metadata": {},
   "outputs": [
    {
     "data": {
      "text/plain": [
       "5"
      ]
     },
     "execution_count": 76,
     "metadata": {},
     "output_type": "execute_result"
    }
   ],
   "source": [
    "#help(tuple())\n",
    "tupla_1.count('David')\n",
    "tupla_1.index(False)\n",
    "len(tupla_1)"
   ]
  },
  {
   "cell_type": "code",
   "execution_count": 108,
   "metadata": {},
   "outputs": [],
   "source": [
    "#prueba=[1,2,3,4,True, False, 1+3j]\n",
    "#[x for x in prueba if type(x)==complex]"
   ]
  },
  {
   "attachments": {
    "image-2.png": {
     "image/png": "[encoded data removed]"
    }
   },
   "cell_type": "markdown",
   "metadata": {},
   "source": [
    "# 4. Sets\n",
    "\n",
    "![image-2.png](attachment:image-2.png)"
   ]
  },
  {
   "cell_type": "code",
   "execution_count": 88,
   "metadata": {},
   "outputs": [
    {
     "name": "stdout",
     "output_type": "stream",
     "text": [
      "{1, 2, 3, 4, 'David'}\n",
      "{1, 2, 3, 4, 'David'}\n"
     ]
    },
    {
     "data": {
      "text/plain": [
       "{1, 2, 3}"
      ]
     },
     "execution_count": 88,
     "metadata": {},
     "output_type": "execute_result"
    }
   ],
   "source": [
    "from pydantic import BaseModel\n",
    "from typing import Any, List, Dict, Tuple, Set\n",
    "\n",
    "set_1: Set[int]= {1,2,3,4,'David'};\n",
    "set_2= {1,2,3,4,'David'};\n",
    "print(set_1)\n",
    "print(set_2)\n",
    "set_3=set((1,2,3));\n",
    "type(set_3)\n",
    "set_3"
   ]
  },
  {
   "cell_type": "code",
   "execution_count": 89,
   "metadata": {},
   "outputs": [
    {
     "data": {
      "text/plain": [
       "['__and__',\n",
       " '__class__',\n",
       " '__class_getitem__',\n",
       " '__contains__',\n",
       " '__delattr__',\n",
       " '__dir__',\n",
       " '__doc__',\n",
       " '__eq__',\n",
       " '__format__',\n",
       " '__ge__',\n",
       " '__getattribute__',\n",
       " '__gt__',\n",
       " '__hash__',\n",
       " '__iand__',\n",
       " '__init__',\n",
       " '__init_subclass__',\n",
       " '__ior__',\n",
       " '__isub__',\n",
       " '__iter__',\n",
       " '__ixor__',\n",
       " '__le__',\n",
       " '__len__',\n",
       " '__lt__',\n",
       " '__ne__',\n",
       " '__new__',\n",
       " '__or__',\n",
       " '__rand__',\n",
       " '__reduce__',\n",
       " '__reduce_ex__',\n",
       " '__repr__',\n",
       " '__ror__',\n",
       " '__rsub__',\n",
       " '__rxor__',\n",
       " '__setattr__',\n",
       " '__sizeof__',\n",
       " '__str__',\n",
       " '__sub__',\n",
       " '__subclasshook__',\n",
       " '__xor__',\n",
       " 'add',\n",
       " 'clear',\n",
       " 'copy',\n",
       " 'difference',\n",
       " 'difference_update',\n",
       " 'discard',\n",
       " 'intersection',\n",
       " 'intersection_update',\n",
       " 'isdisjoint',\n",
       " 'issubset',\n",
       " 'issuperset',\n",
       " 'pop',\n",
       " 'remove',\n",
       " 'symmetric_difference',\n",
       " 'symmetric_difference_update',\n",
       " 'union',\n",
       " 'update']"
      ]
     },
     "execution_count": 89,
     "metadata": {},
     "output_type": "execute_result"
    }
   ],
   "source": [
    "dir(set())"
   ]
  },
  {
   "cell_type": "code",
   "execution_count": 91,
   "metadata": {},
   "outputs": [
    {
     "name": "stdout",
     "output_type": "stream",
     "text": [
      "{456, 123}\n",
      "{456, 563, 567, 761, 123, 764}\n",
      "{764, 567}\n",
      "{761, 563}\n"
     ]
    },
    {
     "data": {
      "text/plain": [
       "{563, 567, 761, 764}"
      ]
     },
     "execution_count": 91,
     "metadata": {},
     "output_type": "execute_result"
    }
   ],
   "source": [
    "set_A= {123, 456, 567, 764}\n",
    "set_B= {123, 456, 563, 761}\n",
    "print(set_A.intersection(set_B))\n",
    "print(set_A.union(set_B))\n",
    "print(set_A.difference(set_B)) # ESTO NO ES SIMETRICO\n",
    "print(set_B.difference(set_A)) # ESTO NO ES SIMETRICO\n",
    "set_A.symmetric_difference(set_B) # EXCLUSIVE OR \n",
    "#set_A.issubset(set_B)"
   ]
  },
  {
   "cell_type": "code",
   "execution_count": 92,
   "metadata": {},
   "outputs": [
    {
     "data": {
      "text/plain": [
       "{5, 6, 7, 456, 567, 764}"
      ]
     },
     "execution_count": 92,
     "metadata": {},
     "output_type": "execute_result"
    }
   ],
   "source": [
    "set_A.discard(123)\n",
    "set_A.update({5,6,7})\n",
    "set_A"
   ]
  },
  {
   "cell_type": "markdown",
   "metadata": {},
   "source": [
    "# 5. Dicts\n",
    "\n",
    "```python\n",
    "{\n",
    "    \"David\": 123,\n",
    "    \"Juan\": 'XXXX',\n",
    "    344: True\n",
    "}\n",
    "```"
   ]
  },
  {
   "cell_type": "code",
   "execution_count": 93,
   "metadata": {},
   "outputs": [
    {
     "name": "stdout",
     "output_type": "stream",
     "text": [
      "\u001b[0;31mInit signature:\u001b[0m \u001b[0mdict\u001b[0m\u001b[0;34m(\u001b[0m\u001b[0mself\u001b[0m\u001b[0;34m,\u001b[0m \u001b[0;34m/\u001b[0m\u001b[0;34m,\u001b[0m \u001b[0;34m*\u001b[0m\u001b[0margs\u001b[0m\u001b[0;34m,\u001b[0m \u001b[0;34m**\u001b[0m\u001b[0mkwargs\u001b[0m\u001b[0;34m)\u001b[0m\u001b[0;34m\u001b[0m\u001b[0;34m\u001b[0m\u001b[0m\n",
      "\u001b[0;31mDocstring:\u001b[0m     \n",
      "dict() -> new empty dictionary\n",
      "dict(mapping) -> new dictionary initialized from a mapping object's\n",
      "    (key, value) pairs\n",
      "dict(iterable) -> new dictionary initialized as if via:\n",
      "    d = {}\n",
      "    for k, v in iterable:\n",
      "        d[k] = v\n",
      "dict(**kwargs) -> new dictionary initialized with the name=value pairs\n",
      "    in the keyword argument list.  For example:  dict(one=1, two=2)\n",
      "\u001b[0;31mType:\u001b[0m           type\n",
      "\u001b[0;31mSubclasses:\u001b[0m     OrderedDict, _EnumDict, defaultdict, Counter, Bunch, ObjectDict, ConvertingDict, Config, _DefaultOptionDict, TimeRE, ..."
     ]
    }
   ],
   "source": [
    "dict?"
   ]
  },
  {
   "cell_type": "code",
   "execution_count": 94,
   "metadata": {},
   "outputs": [
    {
     "data": {
      "text/plain": [
       "['__class__',\n",
       " '__class_getitem__',\n",
       " '__contains__',\n",
       " '__delattr__',\n",
       " '__delitem__',\n",
       " '__dir__',\n",
       " '__doc__',\n",
       " '__eq__',\n",
       " '__format__',\n",
       " '__ge__',\n",
       " '__getattribute__',\n",
       " '__getitem__',\n",
       " '__gt__',\n",
       " '__hash__',\n",
       " '__init__',\n",
       " '__init_subclass__',\n",
       " '__ior__',\n",
       " '__iter__',\n",
       " '__le__',\n",
       " '__len__',\n",
       " '__lt__',\n",
       " '__ne__',\n",
       " '__new__',\n",
       " '__or__',\n",
       " '__reduce__',\n",
       " '__reduce_ex__',\n",
       " '__repr__',\n",
       " '__reversed__',\n",
       " '__ror__',\n",
       " '__setattr__',\n",
       " '__setitem__',\n",
       " '__sizeof__',\n",
       " '__str__',\n",
       " '__subclasshook__',\n",
       " 'clear',\n",
       " 'copy',\n",
       " 'fromkeys',\n",
       " 'get',\n",
       " 'items',\n",
       " 'keys',\n",
       " 'pop',\n",
       " 'popitem',\n",
       " 'setdefault',\n",
       " 'update',\n",
       " 'values']"
      ]
     },
     "execution_count": 94,
     "metadata": {},
     "output_type": "execute_result"
    }
   ],
   "source": [
    "#help(dict())\n",
    "dir(dict())"
   ]
  },
  {
   "cell_type": "code",
   "execution_count": 107,
   "metadata": {},
   "outputs": [
    {
     "data": {
      "text/plain": [
       "{'123445555': 'Sociedad Pepito',\n",
       " '123445768': 'Sociedad Juan',\n",
       " 1234555: 'DavidX',\n",
       " True: 1234.45,\n",
       " 23.4: 'Pedro',\n",
       " (1, 2): 'Pedro',\n",
       " 4: 1,\n",
       " 5: [1, 2, 34],\n",
       " 12345551112: 10}"
      ]
     },
     "execution_count": 107,
     "metadata": {},
     "output_type": "execute_result"
    }
   ],
   "source": [
    "from typing import Dict\n",
    "diccionario_1: Dict ={\n",
    "    \"123445555\" : \"Sociedad Pepito\",\n",
    "    \"123445768\" : \"Sociedad Juan\",\n",
    "    1234555 : \"David\",\n",
    "    True:  1234.45,\n",
    "    23.4: \"Pedro\",\n",
    "    (1,2): \"Pedro\",\n",
    "    #4: 2,\n",
    "    4: 1,\n",
    "    5: [1,2,34]\n",
    "}\n",
    "type(diccionario_1)\n",
    "#diccionario_1.clear()\n",
    "diccionario_2= diccionario_1.copy()\n",
    "diccionario_2.get(\"123445555\",\"David\")\n",
    "diccionario_2.items()\n",
    "diccionario_2.keys()\n",
    "diccionario_2.values()\n",
    "diccionario_2[12345551112]= 10\n",
    "diccionario_2[1234555]= 'DavidX'\n",
    "diccionario_2"
   ]
  },
  {
   "attachments": {
    "image.png": {
     "image/png": "[encoded data removed]"
    }
   },
   "cell_type": "markdown",
   "metadata": {},
   "source": [
    "![image.png](attachment:image.png)"
   ]
  },
  {
   "cell_type": "code",
   "execution_count": 111,
   "metadata": {},
   "outputs": [
    {
     "name": "stdout",
     "output_type": "stream",
     "text": [
      "E\n",
      "G\n",
      "G\n",
      "El equipo X tiene 7 puntos\n"
     ]
    }
   ],
   "source": [
    "suma=0\n",
    "primer= input('Resultado primer partido (G/P/E): ');\n",
    "print(primer)\n",
    "if primer=='G':\n",
    "    suma+=3\n",
    "elif primer=='E':\n",
    "    suma+=1\n",
    "\n",
    "segundo= input('Resultado segundo partido (G/P/E): ');\n",
    "print(segundo)\n",
    "\n",
    "if segundo=='G':\n",
    "    suma+=3\n",
    "elif segundo=='E':\n",
    "    suma+=1\n",
    "\n",
    "tercero= input('Resultado tercero partido (G/P/E): ');\n",
    "print(tercero)\n",
    "\n",
    "if tercero=='G':\n",
    "    suma+=3\n",
    "elif tercero=='E':\n",
    "    suma+=1\n",
    "\n",
    "print(f'El equipo X tiene {suma} puntos')"
   ]
  },
  {
   "cell_type": "code",
   "execution_count": 114,
   "metadata": {},
   "outputs": [
    {
     "name": "stdout",
     "output_type": "stream",
     "text": [
      "Valor inválido. Por favor ingrese 'G', 'P' o 'E'.\n",
      "Valor inválido. Por favor ingrese 'G', 'P' o 'E'.\n",
      "Valor inválido. Por favor ingrese 'G', 'P' o 'E'.\n",
      "Valor inválido. Por favor ingrese 'G', 'P' o 'E'.\n",
      "G\n",
      "Valor inválido. Por favor ingrese 'G', 'P' o 'E'.\n",
      "Valor inválido. Por favor ingrese 'G', 'P' o 'E'.\n",
      "P\n",
      "Valor inválido. Por favor ingrese 'G', 'P' o 'E'.\n",
      "Valor inválido. Por favor ingrese 'G', 'P' o 'E'.\n",
      "P\n",
      "El equipo X tiene 3 puntos\n"
     ]
    }
   ],
   "source": [
    "def calculate_points(result):\n",
    "    if result == 'G':\n",
    "        return 3\n",
    "    elif result == 'E':\n",
    "        return 1\n",
    "    else:\n",
    "        return 0\n",
    "\n",
    "def main():\n",
    "    suma = 0\n",
    "    num_games = int(input('Ingrese el número de partidos: '))\n",
    "    \n",
    "    for i in range(num_games):\n",
    "        while True:\n",
    "            result = input(f'Resultado del partido {i+1} (G/P/E): ')\n",
    "            if result in ['G', 'P', 'E']:\n",
    "                break\n",
    "            else:\n",
    "                print(\"Valor inválido. Por favor ingrese 'G', 'P' o 'E'.\")\n",
    "        print(result)\n",
    "        suma += calculate_points(result)\n",
    "    \n",
    "    print(f'El equipo X tiene {suma} puntos')\n",
    "\n",
    "main()"
   ]
  }
 ],
 "metadata": {
  "kernelspec": {
   "display_name": "Python 3",
   "language": "python",
   "name": "python3"
  },
  "language_info": {
   "codemirror_mode": {
    "name": "ipython",
    "version": 3
   },
   "file_extension": ".py",
   "mimetype": "text/x-python",
   "name": "python",
   "nbconvert_exporter": "python",
   "pygments_lexer": "ipython3",
   "version": "3.9.20"
  }
 },
 "nbformat": 4,
 "nbformat_minor": 2
}
