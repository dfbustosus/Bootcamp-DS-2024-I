{
 "cells": [
  {
   "attachments": {},
   "cell_type": "markdown",
   "metadata": {},
   "source": [
    "# Ejemplo API sencilla"
   ]
  },
  {
   "cell_type": "code",
   "execution_count": 3,
   "metadata": {},
   "outputs": [
    {
     "data": {
      "text/plain": [
       "{'number': {},\n",
       " 'scheme': 'visa',\n",
       " 'type': 'debit',\n",
       " 'brand': 'Visa Classic',\n",
       " 'country': {'numeric': '208',\n",
       "  'alpha2': 'DK',\n",
       "  'name': 'Denmark',\n",
       "  'emoji': '🇩🇰',\n",
       "  'currency': 'DKK',\n",
       "  'latitude': 56,\n",
       "  'longitude': 10},\n",
       " 'bank': {'name': 'Jyske Bank A/S'}}"
      ]
     },
     "execution_count": 3,
     "metadata": {},
     "output_type": "execute_result"
    }
   ],
   "source": [
    "import requests\n",
    "\n",
    "# Define the URL\n",
    "url = \"https://lookup.binlist.net/45717360\"\n",
    "\n",
    "# Define headers\n",
    "headers = {\n",
    "    \"Accept-Version\": \"3\"\n",
    "}\n",
    "\n",
    "# Send GET request\n",
    "response = requests.get(url, headers=headers)\n",
    "\n",
    "# Print response content\n",
    "response.json()"
   ]
  },
  {
   "attachments": {},
   "cell_type": "markdown",
   "metadata": {},
   "source": [
    "# Ejemplo API - transformacion"
   ]
  },
  {
   "attachments": {},
   "cell_type": "markdown",
   "metadata": {},
   "source": [
    "messari API: https://messari.io/api"
   ]
  },
  {
   "cell_type": "code",
   "execution_count": 4,
   "metadata": {},
   "outputs": [
    {
     "name": "stdout",
     "output_type": "stream",
     "text": [
      "\u001b[1;31mSignature:\u001b[0m \u001b[0mrequests\u001b[0m\u001b[1;33m.\u001b[0m\u001b[0mget\u001b[0m\u001b[1;33m(\u001b[0m\u001b[0murl\u001b[0m\u001b[1;33m,\u001b[0m \u001b[0mparams\u001b[0m\u001b[1;33m=\u001b[0m\u001b[1;32mNone\u001b[0m\u001b[1;33m,\u001b[0m \u001b[1;33m**\u001b[0m\u001b[0mkwargs\u001b[0m\u001b[1;33m)\u001b[0m\u001b[1;33m\u001b[0m\u001b[1;33m\u001b[0m\u001b[0m\n",
      "\u001b[1;31mDocstring:\u001b[0m\n",
      "Sends a GET request.\n",
      "\n",
      ":param url: URL for the new :class:`Request` object.\n",
      ":param params: (optional) Dictionary, list of tuples or bytes to send\n",
      "    in the query string for the :class:`Request`.\n",
      ":param \\*\\*kwargs: Optional arguments that ``request`` takes.\n",
      ":return: :class:`Response <Response>` object\n",
      ":rtype: requests.Response\n",
      "\u001b[1;31mFile:\u001b[0m      c:\\python399\\lib\\site-packages\\requests\\api.py\n",
      "\u001b[1;31mType:\u001b[0m      function"
     ]
    }
   ],
   "source": [
    "import requests\n",
    "requests.get?"
   ]
  },
  {
   "cell_type": "code",
   "execution_count": 5,
   "metadata": {},
   "outputs": [
    {
     "name": "stdout",
     "output_type": "stream",
     "text": [
      "<Response [200]>\n"
     ]
    }
   ],
   "source": [
    "import requests\n",
    "import pandas as pd\n",
    "\n",
    "url = \"https://data.messari.io/api/v1/assets/bitcoin/metrics\"\n",
    "headers = {\"Accept-Encoding\": \"gzip, deflate\"}\n",
    "\n",
    "response = requests.get(url, headers=headers)\n",
    "print(response)\n",
    "data = response.json()\n",
    "\n",
    "#df = pd.DataFrame.from_dict(data['data']['market_data'], orient='index')\n",
    "#print(df)"
   ]
  },
  {
   "attachments": {},
   "cell_type": "markdown",
   "metadata": {},
   "source": [
    "El `Accept-Encoding` header se usa por el cliente (en el caso de Python) para indicar los formatos de codificación que puede entender en la respuesta. Luego, el servidor puede comprimir la respuesta utilizando uno de los formatos enumerados antes de enviarla de vuelta al cliente, lo que puede ahorrar ancho de banda y mejorar el rendimiento.\n",
    "\n",
    "En este caso, \"gzip\" y \"deflate\" son dos formatos de compresión populares que el cliente indica que puede manejar. El servidor puede optar por utilizar cualquiera de los formatos para comprimir la respuesta si los admite."
   ]
  },
  {
   "cell_type": "code",
   "execution_count": 6,
   "metadata": {},
   "outputs": [
    {
     "data": {
      "text/plain": [
       "dict_keys(['status', 'data'])"
      ]
     },
     "execution_count": 6,
     "metadata": {},
     "output_type": "execute_result"
    }
   ],
   "source": [
    "data.keys()"
   ]
  },
  {
   "cell_type": "code",
   "execution_count": 7,
   "metadata": {},
   "outputs": [
    {
     "data": {
      "text/plain": [
       "{'elapsed': 2, 'timestamp': '2024-05-07T22:07:19.740876596Z'}"
      ]
     },
     "execution_count": 7,
     "metadata": {},
     "output_type": "execute_result"
    }
   ],
   "source": [
    "data['status']"
   ]
  },
  {
   "cell_type": "code",
   "execution_count": 8,
   "metadata": {},
   "outputs": [
    {
     "data": {
      "text/plain": [
       "'2024-05-07T22:07:19.740876596Z'"
      ]
     },
     "execution_count": 8,
     "metadata": {},
     "output_type": "execute_result"
    }
   ],
   "source": [
    "data['status']['timestamp']"
   ]
  },
  {
   "cell_type": "code",
   "execution_count": 9,
   "metadata": {},
   "outputs": [
    {
     "data": {
      "text/plain": [
       "dict_keys(['id', 'serial_id', 'symbol', 'name', 'slug', 'contract_addresses', '_internal_temp_agora_id', 'market_data', 'marketcap', 'supply', 'blockchain_stats_24_hours', 'market_data_liquidity', 'all_time_high', 'cycle_low', 'token_sale_stats', 'mining_stats', 'developer_activity', 'roi_data', 'roi_by_year', 'risk_metrics', 'misc_data', 'reddit', 'on_chain_data', 'exchange_flows', 'miner_flows', 'supply_activity', 'supply_distribution', 'alert_messages'])"
      ]
     },
     "execution_count": 9,
     "metadata": {},
     "output_type": "execute_result"
    }
   ],
   "source": [
    "data['data'].keys()"
   ]
  },
  {
   "cell_type": "code",
   "execution_count": 10,
   "metadata": {},
   "outputs": [],
   "source": [
    "#datax = data['data']"
   ]
  },
  {
   "cell_type": "code",
   "execution_count": 11,
   "metadata": {},
   "outputs": [
    {
     "data": {
      "text/html": [
       "<div>\n",
       "<style scoped>\n",
       "    .dataframe tbody tr th:only-of-type {\n",
       "        vertical-align: middle;\n",
       "    }\n",
       "\n",
       "    .dataframe tbody tr th {\n",
       "        vertical-align: top;\n",
       "    }\n",
       "\n",
       "    .dataframe thead th {\n",
       "        text-align: right;\n",
       "    }\n",
       "</style>\n",
       "<table border=\"1\" class=\"dataframe\">\n",
       "  <thead>\n",
       "    <tr style=\"text-align: right;\">\n",
       "      <th></th>\n",
       "      <th>0</th>\n",
       "    </tr>\n",
       "  </thead>\n",
       "  <tbody>\n",
       "    <tr>\n",
       "      <th>id</th>\n",
       "      <td>1e31218a-e44e-4285-820c-8282ee222035</td>\n",
       "    </tr>\n",
       "    <tr>\n",
       "      <th>serial_id</th>\n",
       "      <td>6057</td>\n",
       "    </tr>\n",
       "    <tr>\n",
       "      <th>symbol</th>\n",
       "      <td>BTC</td>\n",
       "    </tr>\n",
       "    <tr>\n",
       "      <th>name</th>\n",
       "      <td>Bitcoin</td>\n",
       "    </tr>\n",
       "    <tr>\n",
       "      <th>slug</th>\n",
       "      <td>bitcoin</td>\n",
       "    </tr>\n",
       "    <tr>\n",
       "      <th>contract_addresses</th>\n",
       "      <td>None</td>\n",
       "    </tr>\n",
       "    <tr>\n",
       "      <th>_internal_temp_agora_id</th>\n",
       "      <td>9793eae6-f374-46b4-8764-c2d224429791</td>\n",
       "    </tr>\n",
       "    <tr>\n",
       "      <th>market_data</th>\n",
       "      <td>{'price_usd': 63007.26873801621, 'price_btc': ...</td>\n",
       "    </tr>\n",
       "    <tr>\n",
       "      <th>marketcap</th>\n",
       "      <td>{'rank': 1, 'marketcap_dominance_percent': 50....</td>\n",
       "    </tr>\n",
       "    <tr>\n",
       "      <th>supply</th>\n",
       "      <td>{'y_2050': None, 'y_plus10': None, 'liquid': N...</td>\n",
       "    </tr>\n",
       "    <tr>\n",
       "      <th>blockchain_stats_24_hours</th>\n",
       "      <td>{'count_of_active_addresses': 670316, 'transac...</td>\n",
       "    </tr>\n",
       "    <tr>\n",
       "      <th>market_data_liquidity</th>\n",
       "      <td>{'clearing_prices_to_sell': None, 'marketcap':...</td>\n",
       "    </tr>\n",
       "    <tr>\n",
       "      <th>all_time_high</th>\n",
       "      <td>{'price': 73797.34606447241, 'at': '2024-03-14...</td>\n",
       "    </tr>\n",
       "    <tr>\n",
       "      <th>cycle_low</th>\n",
       "      <td>{'price': 56567.348599633595, 'at': '2024-05-0...</td>\n",
       "    </tr>\n",
       "    <tr>\n",
       "      <th>token_sale_stats</th>\n",
       "      <td>{'sale_proceeds_usd': None, 'sale_start_date':...</td>\n",
       "    </tr>\n",
       "    <tr>\n",
       "      <th>mining_stats</th>\n",
       "      <td>{'mining_algo': 'SHA-256', 'network_hash_rate'...</td>\n",
       "    </tr>\n",
       "    <tr>\n",
       "      <th>developer_activity</th>\n",
       "      <td>{'stars': 75613, 'watchers': 3987, 'commits_la...</td>\n",
       "    </tr>\n",
       "    <tr>\n",
       "      <th>roi_data</th>\n",
       "      <td>{'percent_change_last_1_week': 3.9975187780136...</td>\n",
       "    </tr>\n",
       "    <tr>\n",
       "      <th>roi_by_year</th>\n",
       "      <td>{'2021_usd_percent': 57.12975940534195, '2020_...</td>\n",
       "    </tr>\n",
       "    <tr>\n",
       "      <th>risk_metrics</th>\n",
       "      <td>{'sharpe_ratios': {'last_30_days': -1.76967586...</td>\n",
       "    </tr>\n",
       "    <tr>\n",
       "      <th>misc_data</th>\n",
       "      <td>{'private_market_price_usd': None, 'vladimir_c...</td>\n",
       "    </tr>\n",
       "    <tr>\n",
       "      <th>reddit</th>\n",
       "      <td>{'active_user_count': 1017, 'subscribers': 653...</td>\n",
       "    </tr>\n",
       "    <tr>\n",
       "      <th>on_chain_data</th>\n",
       "      <td>{'addresses_count': 53216842, 'active_addresse...</td>\n",
       "    </tr>\n",
       "    <tr>\n",
       "      <th>exchange_flows</th>\n",
       "      <td>{'flow_in_exchange_native_units': 14841.771504...</td>\n",
       "    </tr>\n",
       "    <tr>\n",
       "      <th>miner_flows</th>\n",
       "      <td>{'supply_1hop_miners_usd': 159889251529.18558,...</td>\n",
       "    </tr>\n",
       "    <tr>\n",
       "      <th>supply_activity</th>\n",
       "      <td>{'supply_active_10y': 16432040.23488958, 'supp...</td>\n",
       "    </tr>\n",
       "    <tr>\n",
       "      <th>supply_distribution</th>\n",
       "      <td>{'supply_in_addresses_balance_greater_0_001_na...</td>\n",
       "    </tr>\n",
       "    <tr>\n",
       "      <th>alert_messages</th>\n",
       "      <td>None</td>\n",
       "    </tr>\n",
       "  </tbody>\n",
       "</table>\n",
       "</div>"
      ],
      "text/plain": [
       "                                                                           0\n",
       "id                                      1e31218a-e44e-4285-820c-8282ee222035\n",
       "serial_id                                                               6057\n",
       "symbol                                                                   BTC\n",
       "name                                                                 Bitcoin\n",
       "slug                                                                 bitcoin\n",
       "contract_addresses                                                      None\n",
       "_internal_temp_agora_id                 9793eae6-f374-46b4-8764-c2d224429791\n",
       "market_data                {'price_usd': 63007.26873801621, 'price_btc': ...\n",
       "marketcap                  {'rank': 1, 'marketcap_dominance_percent': 50....\n",
       "supply                     {'y_2050': None, 'y_plus10': None, 'liquid': N...\n",
       "blockchain_stats_24_hours  {'count_of_active_addresses': 670316, 'transac...\n",
       "market_data_liquidity      {'clearing_prices_to_sell': None, 'marketcap':...\n",
       "all_time_high              {'price': 73797.34606447241, 'at': '2024-03-14...\n",
       "cycle_low                  {'price': 56567.348599633595, 'at': '2024-05-0...\n",
       "token_sale_stats           {'sale_proceeds_usd': None, 'sale_start_date':...\n",
       "mining_stats               {'mining_algo': 'SHA-256', 'network_hash_rate'...\n",
       "developer_activity         {'stars': 75613, 'watchers': 3987, 'commits_la...\n",
       "roi_data                   {'percent_change_last_1_week': 3.9975187780136...\n",
       "roi_by_year                {'2021_usd_percent': 57.12975940534195, '2020_...\n",
       "risk_metrics               {'sharpe_ratios': {'last_30_days': -1.76967586...\n",
       "misc_data                  {'private_market_price_usd': None, 'vladimir_c...\n",
       "reddit                     {'active_user_count': 1017, 'subscribers': 653...\n",
       "on_chain_data              {'addresses_count': 53216842, 'active_addresse...\n",
       "exchange_flows             {'flow_in_exchange_native_units': 14841.771504...\n",
       "miner_flows                {'supply_1hop_miners_usd': 159889251529.18558,...\n",
       "supply_activity            {'supply_active_10y': 16432040.23488958, 'supp...\n",
       "supply_distribution        {'supply_in_addresses_balance_greater_0_001_na...\n",
       "alert_messages                                                          None"
      ]
     },
     "execution_count": 11,
     "metadata": {},
     "output_type": "execute_result"
    }
   ],
   "source": [
    "datax = data['data']\n",
    "dt = pd.DataFrame.from_dict(datax, orient='index')\n",
    "dt"
   ]
  },
  {
   "cell_type": "code",
   "execution_count": 12,
   "metadata": {},
   "outputs": [
    {
     "data": {
      "text/plain": [
       "{'mining_algo': 'SHA-256',\n",
       " 'network_hash_rate': '662705 PH/s',\n",
       " 'available_on_nicehash_percent': 0.009225516569147519,\n",
       " '1_hour_attack_cost': None,\n",
       " '24_hours_attack_cost': None,\n",
       " 'attack_appeal': None,\n",
       " 'hash_rate': 534321336.312408,\n",
       " 'hash_rate_30d_average': 621997507.9109107,\n",
       " 'mining_revenue_per_hash_usd': 5.77734e-07,\n",
       " 'mining_revenue_per_hash_native_units': 9e-12,\n",
       " 'mining_revenue_per_hash_per_second_usd': 0.058699827553,\n",
       " 'mining_revenue_per_hash_per_second_native_units': 9.16217e-07,\n",
       " 'mining_revenue_from_fees_percent_last_24_hours': 22.1230496117,\n",
       " 'mining_revenue_native': 421.82671837,\n",
       " 'mining_revenue_usd': 26671303.253830854,\n",
       " 'mining_revenue_total': 64657499052.65652,\n",
       " 'average_difficulty': 88104191118793.16}"
      ]
     },
     "execution_count": 12,
     "metadata": {},
     "output_type": "execute_result"
    }
   ],
   "source": [
    "dt.loc['mining_stats'][0]"
   ]
  },
  {
   "cell_type": "code",
   "execution_count": 13,
   "metadata": {},
   "outputs": [
    {
     "data": {
      "text/html": [
       "<div>\n",
       "<style scoped>\n",
       "    .dataframe tbody tr th:only-of-type {\n",
       "        vertical-align: middle;\n",
       "    }\n",
       "\n",
       "    .dataframe tbody tr th {\n",
       "        vertical-align: top;\n",
       "    }\n",
       "\n",
       "    .dataframe thead th {\n",
       "        text-align: right;\n",
       "    }\n",
       "</style>\n",
       "<table border=\"1\" class=\"dataframe\">\n",
       "  <thead>\n",
       "    <tr style=\"text-align: right;\">\n",
       "      <th></th>\n",
       "      <th>mining_algo</th>\n",
       "      <th>network_hash_rate</th>\n",
       "      <th>available_on_nicehash_percent</th>\n",
       "      <th>1_hour_attack_cost</th>\n",
       "      <th>24_hours_attack_cost</th>\n",
       "      <th>attack_appeal</th>\n",
       "      <th>hash_rate</th>\n",
       "      <th>hash_rate_30d_average</th>\n",
       "      <th>mining_revenue_per_hash_usd</th>\n",
       "      <th>mining_revenue_per_hash_native_units</th>\n",
       "      <th>mining_revenue_per_hash_per_second_usd</th>\n",
       "      <th>mining_revenue_per_hash_per_second_native_units</th>\n",
       "      <th>mining_revenue_from_fees_percent_last_24_hours</th>\n",
       "      <th>mining_revenue_native</th>\n",
       "      <th>mining_revenue_usd</th>\n",
       "      <th>mining_revenue_total</th>\n",
       "      <th>average_difficulty</th>\n",
       "      <th>Date</th>\n",
       "    </tr>\n",
       "  </thead>\n",
       "  <tbody>\n",
       "    <tr>\n",
       "      <th>0</th>\n",
       "      <td>SHA-256</td>\n",
       "      <td>662705 PH/s</td>\n",
       "      <td>0.009226</td>\n",
       "      <td>None</td>\n",
       "      <td>None</td>\n",
       "      <td>None</td>\n",
       "      <td>534321336.312408</td>\n",
       "      <td>621997507.910911</td>\n",
       "      <td>0.000001</td>\n",
       "      <td>0.0</td>\n",
       "      <td>0.0587</td>\n",
       "      <td>0.000001</td>\n",
       "      <td>22.12305</td>\n",
       "      <td>421.826718</td>\n",
       "      <td>26671303.253831</td>\n",
       "      <td>64657499052.656517</td>\n",
       "      <td>88104191118793.15625</td>\n",
       "      <td>2024-05-07T22:07:19.740876596Z</td>\n",
       "    </tr>\n",
       "  </tbody>\n",
       "</table>\n",
       "</div>"
      ],
      "text/plain": [
       "  mining_algo network_hash_rate available_on_nicehash_percent  \\\n",
       "0     SHA-256       662705 PH/s                      0.009226   \n",
       "\n",
       "  1_hour_attack_cost 24_hours_attack_cost attack_appeal         hash_rate  \\\n",
       "0               None                 None          None  534321336.312408   \n",
       "\n",
       "  hash_rate_30d_average mining_revenue_per_hash_usd  \\\n",
       "0      621997507.910911                    0.000001   \n",
       "\n",
       "  mining_revenue_per_hash_native_units mining_revenue_per_hash_per_second_usd  \\\n",
       "0                                  0.0                                 0.0587   \n",
       "\n",
       "  mining_revenue_per_hash_per_second_native_units  \\\n",
       "0                                        0.000001   \n",
       "\n",
       "  mining_revenue_from_fees_percent_last_24_hours mining_revenue_native  \\\n",
       "0                                       22.12305            421.826718   \n",
       "\n",
       "  mining_revenue_usd mining_revenue_total    average_difficulty  \\\n",
       "0    26671303.253831   64657499052.656517  88104191118793.15625   \n",
       "\n",
       "                             Date  \n",
       "0  2024-05-07T22:07:19.740876596Z  "
      ]
     },
     "execution_count": 13,
     "metadata": {},
     "output_type": "execute_result"
    }
   ],
   "source": [
    "extract=dt.loc['mining_stats'][0]\n",
    "e = pd.DataFrame.from_dict(extract, orient='index', columns=['value']).transpose().reset_index(drop=True)\n",
    "e['Date'] = data['status']['timestamp']\n",
    "e"
   ]
  },
  {
   "cell_type": "code",
   "execution_count": 14,
   "metadata": {},
   "outputs": [
    {
     "name": "stdout",
     "output_type": "stream",
     "text": [
      "Index(['mining_algo', 'network_hash_rate', 'available_on_nicehash_percent',\n",
      "       '1_hour_attack_cost', '24_hours_attack_cost', 'attack_appeal',\n",
      "       'hash_rate', 'hash_rate_30d_average', 'mining_revenue_per_hash_usd',\n",
      "       'mining_revenue_per_hash_native_units',\n",
      "       'mining_revenue_per_hash_per_second_usd',\n",
      "       'mining_revenue_per_hash_per_second_native_units',\n",
      "       'mining_revenue_from_fees_percent_last_24_hours',\n",
      "       'mining_revenue_native', 'mining_revenue_usd', 'mining_revenue_total',\n",
      "       'average_difficulty', 'Date'],\n",
      "      dtype='object')\n"
     ]
    }
   ],
   "source": [
    "print(e.columns)"
   ]
  }
 ],
 "metadata": {
  "kernelspec": {
   "display_name": "Python 3",
   "language": "python",
   "name": "python3"
  },
  "language_info": {
   "codemirror_mode": {
    "name": "ipython",
    "version": 3
   },
   "file_extension": ".py",
   "mimetype": "text/x-python",
   "name": "python",
   "nbconvert_exporter": "python",
   "pygments_lexer": "ipython3",
   "version": "3.9.9"
  },
  "orig_nbformat": 4
 },
 "nbformat": 4,
 "nbformat_minor": 2
}
