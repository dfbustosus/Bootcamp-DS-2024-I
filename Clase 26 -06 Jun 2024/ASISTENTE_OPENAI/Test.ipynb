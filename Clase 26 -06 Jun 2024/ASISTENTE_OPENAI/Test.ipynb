{
 "cells": [
  {
   "cell_type": "code",
   "execution_count": 1,
   "metadata": {},
   "outputs": [],
   "source": [
    "# 1. Librerias\n",
    "from pprint import pprint\n",
    "import json\n",
    "from openai import OpenAI\n",
    "import time\n",
    "from dotenv import load_dotenv\n",
    "import os\n",
    "from Funciones import gather_user_data, gather_reservation_data, not_talk\n",
    "###################################################\n",
    "# 2. Cargar variables entorno\n",
    "load_dotenv();\n",
    "openai_key= os.getenv(\"OPENAI_KEY\");\n",
    "#print(openai_key)\n",
    "###################################################\n",
    "# 3. Crear el cliente (permite la conexión con OPENAI)\n",
    "client=OpenAI(api_key= openai_key);\n",
    "###################################################\n",
    "# 4. Obtener el asistente creado\n",
    "assistant = client.beta.assistants.retrieve(\"asst_1IL5Wh27gRzwuIhCAmA0Gyww\");"
   ]
  }
 ],
 "metadata": {
  "kernelspec": {
   "display_name": "Python 3",
   "language": "python",
   "name": "python3"
  },
  "language_info": {
   "codemirror_mode": {
    "name": "ipython",
    "version": 3
   },
   "file_extension": ".py",
   "mimetype": "text/x-python",
   "name": "python",
   "nbconvert_exporter": "python",
   "pygments_lexer": "ipython3",
   "version": "3.10.9"
  }
 },
 "nbformat": 4,
 "nbformat_minor": 2
}
