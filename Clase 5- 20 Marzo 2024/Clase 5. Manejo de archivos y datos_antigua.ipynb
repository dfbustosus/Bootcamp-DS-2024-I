{
 "cells": [
  {
   "cell_type": "code",
   "execution_count": null,
   "metadata": {},
   "outputs": [],
   "source": [
    "\"\"\"\n",
    "from google.colab import drive\n",
    "import os\n",
    "drive.mount('/content/gdrive')\n",
    "# Establecer ruta de acceso en drive\n",
    "os.chdir(\"/content/gdrive/My Drive\")\n",
    "\"\"\""
   ]
  },
  {
   "cell_type": "code",
   "execution_count": 1,
   "metadata": {},
   "outputs": [
    {
     "data": {
      "text/plain": [
       "'c:\\\\Users\\\\Windows\\\\Desktop\\\\Bootcamp-DS-2023-III\\\\Clase 5- 12 Sept 2023'"
      ]
     },
     "execution_count": 1,
     "metadata": {},
     "output_type": "execute_result"
    }
   ],
   "source": [
    "%pwd"
   ]
  },
  {
   "cell_type": "code",
   "execution_count": 2,
   "metadata": {},
   "outputs": [],
   "source": [
    "# 1. Escritura\n",
    "ruta='C:/Users/Windows/Desktop/Bootcamp-DS-2023-III/Clase 5- 12 Sept 2023/'\n",
    "f=open(ruta+'/archivo.txt','w') # El archivo (nombre) que quieres guardar\n",
    "f.write('Esto es un texto') # Texto que voy a escribir\n",
    "f.close() # Cerrar el archivo"
   ]
  },
  {
   "cell_type": "code",
   "execution_count": 3,
   "metadata": {},
   "outputs": [],
   "source": [
    "nombre='Nicolas'\n",
    "apellido='Perez'\n",
    "dni=111111\n",
    "d={'NOMBRE':nombre, 'APELLIDO':apellido,'DNI':dni}\n",
    "f=open(ruta+'/otro.txt','w')\n",
    "f.write(d['NOMBRE']+\",\"+d['APELLIDO']+','+str(d['DNI']))\n",
    "f.close()"
   ]
  },
  {
   "cell_type": "code",
   "execution_count": 4,
   "metadata": {},
   "outputs": [],
   "source": [
    "# Desafio generico\n",
    "lista=[]\n",
    "for i in range(3):\n",
    "    var= input(f'Ingresa tu hobbie favorito {i}: ')\n",
    "    lista.append(var)\n",
    "texto='\\n'.join(lista)\n",
    "f=open(ruta+'/miHobbiesFavoritos.txt','w')\n",
    "f.write(texto)\n",
    "f.close()"
   ]
  },
  {
   "cell_type": "code",
   "execution_count": 5,
   "metadata": {},
   "outputs": [],
   "source": [
    "# Desafio (Otro)\n",
    "nombre=input('Ingresa el nombre de tu mascota:')\n",
    "edad=input('Ingresa la edad de tu mascota:')\n",
    "d={'NOMBRE':nombre, 'EDAD':edad}\n",
    "f=open(ruta+'/miMascota.txt','w')\n",
    "f.write(d['NOMBRE']+','+d['EDAD'])\n",
    "f.close()"
   ]
  },
  {
   "cell_type": "code",
   "execution_count": 6,
   "metadata": {},
   "outputs": [
    {
     "name": "stdout",
     "output_type": "stream",
     "text": [
      "soy el primer renglon\n",
      "ahora soy el 2do renglon\n",
      "no sé ni que soy\n",
      "acá hay otro renglon\n",
      "soy el 5\n"
     ]
    }
   ],
   "source": [
    "#2. Lectura\n",
    "f=open(ruta+'/paraLeer.txt','r',encoding='utf-8')\n",
    "content=f.read()\n",
    "print(content)\n",
    "f.close()"
   ]
  },
  {
   "cell_type": "code",
   "execution_count": 7,
   "metadata": {},
   "outputs": [
    {
     "name": "stdout",
     "output_type": "stream",
     "text": [
      "soy el primer renglon\n",
      "\n"
     ]
    }
   ],
   "source": [
    "f=open(ruta+'/paraLeer.txt','r',encoding='utf-8')\n",
    "print(f.readline())\n",
    "f.close()"
   ]
  },
  {
   "cell_type": "code",
   "execution_count": 8,
   "metadata": {},
   "outputs": [
    {
     "name": "stdout",
     "output_type": "stream",
     "text": [
      "soy el primer renglon\n",
      "\n",
      "ahora soy el 2do renglon\n",
      "\n",
      "no sé ni que soy\n",
      "\n",
      "acá hay otro renglon\n",
      "\n",
      "soy el 5\n"
     ]
    }
   ],
   "source": [
    "f=open(ruta+'/paraLeer.txt','r',encoding='utf-8')\n",
    "for line in f.readlines():\n",
    "    print(line)\n",
    "f.close()"
   ]
  },
  {
   "cell_type": "code",
   "execution_count": 9,
   "metadata": {},
   "outputs": [
    {
     "name": "stdout",
     "output_type": "stream",
     "text": [
      "n\n",
      "ahora soy el 2do renglon\n",
      "no sé ni que soy\n",
      "acá hay otro renglon\n",
      "soy el 5\n"
     ]
    }
   ],
   "source": [
    "f=open(ruta+'/paraLeer.txt','r',encoding='utf-8')\n",
    "f.seek(20)\n",
    "print(f.read())\n",
    "f.close()"
   ]
  },
  {
   "cell_type": "code",
   "execution_count": 10,
   "metadata": {},
   "outputs": [
    {
     "data": {
      "text/plain": [
       "{'clients': [{'first_name': 'Sigrid',\n",
       "   'last_name': 'Marnock',\n",
       "   'age': 22,\n",
       "   'amount': 7.17},\n",
       "  {'first_name': 'Jose',\n",
       "   'last_name': 'Hinners',\n",
       "   'age': 31,\n",
       "   'amount': [1.9, 5.5]},\n",
       "  {'first_name': 'Theodoric',\n",
       "   'last_name': 'Rivers',\n",
       "   'age': 36,\n",
       "   'amount': 1.11}]}"
      ]
     },
     "execution_count": 10,
     "metadata": {},
     "output_type": "execute_result"
    }
   ],
   "source": [
    "#3. archivos json\n",
    "# Escritura\n",
    "import json\n",
    "data={}\n",
    "data['clients']=[]\n",
    "data['clients'].append({\n",
    "    'first_name':'Sigrid',\n",
    "    'last_name':'Marnock',\n",
    "    'age':22, 'amount':7.17\n",
    "})\n",
    "data['clients'].append({\n",
    "    'first_name':'Jose',\n",
    "    'last_name':'Hinners',\n",
    "    'age':31, 'amount':[1.90,5.50]\n",
    "})\n",
    "data['clients'].append({\n",
    "    'first_name':'Theodoric',\n",
    "    'last_name':'Rivers',\n",
    "    'age':36, 'amount':1.11\n",
    "})\n",
    "data"
   ]
  },
  {
   "cell_type": "code",
   "execution_count": 11,
   "metadata": {},
   "outputs": [],
   "source": [
    "with open(ruta+'/primerJson.json','w') as file:\n",
    "    json.dump(data, file,indent=4)"
   ]
  },
  {
   "cell_type": "code",
   "execution_count": 12,
   "metadata": {},
   "outputs": [
    {
     "name": "stdout",
     "output_type": "stream",
     "text": [
      "\u001b[1;31mSignature:\u001b[0m\n",
      "\u001b[0mjson\u001b[0m\u001b[1;33m.\u001b[0m\u001b[0mdump\u001b[0m\u001b[1;33m(\u001b[0m\u001b[1;33m\n",
      "\u001b[0m    \u001b[0mobj\u001b[0m\u001b[1;33m,\u001b[0m\u001b[1;33m\n",
      "\u001b[0m    \u001b[0mfp\u001b[0m\u001b[1;33m,\u001b[0m\u001b[1;33m\n",
      "\u001b[0m    \u001b[1;33m*\u001b[0m\u001b[1;33m,\u001b[0m\u001b[1;33m\n",
      "\u001b[0m    \u001b[0mskipkeys\u001b[0m\u001b[1;33m=\u001b[0m\u001b[1;32mFalse\u001b[0m\u001b[1;33m,\u001b[0m\u001b[1;33m\n",
      "\u001b[0m    \u001b[0mensure_ascii\u001b[0m\u001b[1;33m=\u001b[0m\u001b[1;32mTrue\u001b[0m\u001b[1;33m,\u001b[0m\u001b[1;33m\n",
      "\u001b[0m    \u001b[0mcheck_circular\u001b[0m\u001b[1;33m=\u001b[0m\u001b[1;32mTrue\u001b[0m\u001b[1;33m,\u001b[0m\u001b[1;33m\n",
      "\u001b[0m    \u001b[0mallow_nan\u001b[0m\u001b[1;33m=\u001b[0m\u001b[1;32mTrue\u001b[0m\u001b[1;33m,\u001b[0m\u001b[1;33m\n",
      "\u001b[0m    \u001b[0mcls\u001b[0m\u001b[1;33m=\u001b[0m\u001b[1;32mNone\u001b[0m\u001b[1;33m,\u001b[0m\u001b[1;33m\n",
      "\u001b[0m    \u001b[0mindent\u001b[0m\u001b[1;33m=\u001b[0m\u001b[1;32mNone\u001b[0m\u001b[1;33m,\u001b[0m\u001b[1;33m\n",
      "\u001b[0m    \u001b[0mseparators\u001b[0m\u001b[1;33m=\u001b[0m\u001b[1;32mNone\u001b[0m\u001b[1;33m,\u001b[0m\u001b[1;33m\n",
      "\u001b[0m    \u001b[0mdefault\u001b[0m\u001b[1;33m=\u001b[0m\u001b[1;32mNone\u001b[0m\u001b[1;33m,\u001b[0m\u001b[1;33m\n",
      "\u001b[0m    \u001b[0msort_keys\u001b[0m\u001b[1;33m=\u001b[0m\u001b[1;32mFalse\u001b[0m\u001b[1;33m,\u001b[0m\u001b[1;33m\n",
      "\u001b[0m    \u001b[1;33m**\u001b[0m\u001b[0mkw\u001b[0m\u001b[1;33m,\u001b[0m\u001b[1;33m\n",
      "\u001b[0m\u001b[1;33m)\u001b[0m\u001b[1;33m\u001b[0m\u001b[1;33m\u001b[0m\u001b[0m\n",
      "\u001b[1;31mDocstring:\u001b[0m\n",
      "Serialize ``obj`` as a JSON formatted stream to ``fp`` (a\n",
      "``.write()``-supporting file-like object).\n",
      "\n",
      "If ``skipkeys`` is true then ``dict`` keys that are not basic types\n",
      "(``str``, ``int``, ``float``, ``bool``, ``None``) will be skipped\n",
      "instead of raising a ``TypeError``.\n",
      "\n",
      "If ``ensure_ascii`` is false, then the strings written to ``fp`` can\n",
      "contain non-ASCII characters if they appear in strings contained in\n",
      "``obj``. Otherwise, all such characters are escaped in JSON strings.\n",
      "\n",
      "If ``check_circular`` is false, then the circular reference check\n",
      "for container types will be skipped and a circular reference will\n",
      "result in an ``OverflowError`` (or worse).\n",
      "\n",
      "If ``allow_nan`` is false, then it will be a ``ValueError`` to\n",
      "serialize out of range ``float`` values (``nan``, ``inf``, ``-inf``)\n",
      "in strict compliance of the JSON specification, instead of using the\n",
      "JavaScript equivalents (``NaN``, ``Infinity``, ``-Infinity``).\n",
      "\n",
      "If ``indent`` is a non-negative integer, then JSON array elements and\n",
      "object members will be pretty-printed with that indent level. An indent\n",
      "level of 0 will only insert newlines. ``None`` is the most compact\n",
      "representation.\n",
      "\n",
      "If specified, ``separators`` should be an ``(item_separator, key_separator)``\n",
      "tuple.  The default is ``(', ', ': ')`` if *indent* is ``None`` and\n",
      "``(',', ': ')`` otherwise.  To get the most compact JSON representation,\n",
      "you should specify ``(',', ':')`` to eliminate whitespace.\n",
      "\n",
      "``default(obj)`` is a function that should return a serializable version\n",
      "of obj or raise TypeError. The default simply raises TypeError.\n",
      "\n",
      "If *sort_keys* is true (default: ``False``), then the output of\n",
      "dictionaries will be sorted by key.\n",
      "\n",
      "To use a custom ``JSONEncoder`` subclass (e.g. one that overrides the\n",
      "``.default()`` method to serialize additional types), specify it with\n",
      "the ``cls`` kwarg; otherwise ``JSONEncoder`` is used.\n",
      "\u001b[1;31mFile:\u001b[0m      c:\\program files\\python39\\lib\\json\\__init__.py\n",
      "\u001b[1;31mType:\u001b[0m      function"
     ]
    }
   ],
   "source": [
    "import json\n",
    "json.dump?"
   ]
  },
  {
   "cell_type": "code",
   "execution_count": 13,
   "metadata": {},
   "outputs": [],
   "source": [
    "with open(ruta+'/primerJson.json') as file:\n",
    "    dataLectura=json.load(file)"
   ]
  },
  {
   "cell_type": "code",
   "execution_count": 14,
   "metadata": {},
   "outputs": [
    {
     "name": "stdout",
     "output_type": "stream",
     "text": [
      "First name Sigrid\n",
      "Last name: Marnock\n",
      "Age: 22\n",
      "Amount: 7.17\n",
      "\n",
      "First name Jose\n",
      "Last name: Hinners\n",
      "Age: 31\n",
      "Amount: [1.9, 5.5]\n",
      "\n",
      "First name Theodoric\n",
      "Last name: Rivers\n",
      "Age: 36\n",
      "Amount: 1.11\n",
      "\n"
     ]
    }
   ],
   "source": [
    "# Lectura\n",
    "with open(ruta+'/primerJson.json') as file:\n",
    "    dataLectura=json.load(file)\n",
    "    for client in dataLectura['clients']:\n",
    "        print('First name', client['first_name'])\n",
    "        print('Last name:', client['last_name'])\n",
    "        print('Age:', client['age'])\n",
    "        print('Amount:',client['amount'])\n",
    "        print('')"
   ]
  },
  {
   "cell_type": "code",
   "execution_count": 15,
   "metadata": {},
   "outputs": [
    {
     "data": {
      "text/plain": [
       "{'clients': [{'first_name': 'Sigrid',\n",
       "   'last_name': 'Marnock',\n",
       "   'age': 22,\n",
       "   'amount': 7.17},\n",
       "  {'first_name': 'Jose',\n",
       "   'last_name': 'Hinners',\n",
       "   'age': 31,\n",
       "   'amount': [1.9, 5.5]},\n",
       "  {'first_name': 'Theodoric',\n",
       "   'last_name': 'Rivers',\n",
       "   'age': 36,\n",
       "   'amount': 1.11}]}"
      ]
     },
     "execution_count": 15,
     "metadata": {},
     "output_type": "execute_result"
    }
   ],
   "source": [
    "dataLectura"
   ]
  },
  {
   "cell_type": "code",
   "execution_count": 25,
   "metadata": {
    "scrolled": true
   },
   "outputs": [
    {
     "name": "stdout",
     "output_type": "stream",
     "text": [
      "Requirement already satisfied: pandas in c:\\users\\windows\\appdata\\local\\packages\\pythonsoftwarefoundation.python.3.10_qbz5n2kfra8p0\\localcache\\local-packages\\python310\\site-packages (1.5.1)\n",
      "Requirement already satisfied: python-dateutil>=2.8.1 in c:\\users\\windows\\appdata\\local\\packages\\pythonsoftwarefoundation.python.3.10_qbz5n2kfra8p0\\localcache\\local-packages\\python310\\site-packages (from pandas) (2.8.2)\n",
      "Requirement already satisfied: pytz>=2020.1 in c:\\users\\windows\\appdata\\local\\packages\\pythonsoftwarefoundation.python.3.10_qbz5n2kfra8p0\\localcache\\local-packages\\python310\\site-packages (from pandas) (2022.5)\n",
      "Requirement already satisfied: numpy>=1.21.0 in c:\\users\\windows\\appdata\\local\\packages\\pythonsoftwarefoundation.python.3.10_qbz5n2kfra8p0\\localcache\\local-packages\\python310\\site-packages (from pandas) (1.23.4)\n",
      "Requirement already satisfied: six>=1.5 in c:\\users\\windows\\appdata\\local\\packages\\pythonsoftwarefoundation.python.3.10_qbz5n2kfra8p0\\localcache\\local-packages\\python310\\site-packages (from python-dateutil>=2.8.1->pandas) (1.16.0)\n",
      "Requirement already satisfied: numpy in c:\\users\\windows\\appdata\\local\\packages\\pythonsoftwarefoundation.python.3.10_qbz5n2kfra8p0\\localcache\\local-packages\\python310\\site-packages (1.23.4)\n"
     ]
    }
   ],
   "source": [
    "!pip install pandas\n",
    "!pip install numpy"
   ]
  },
  {
   "cell_type": "code",
   "execution_count": null,
   "metadata": {},
   "outputs": [],
   "source": [
    "#Con esto daremos permisos para acceder al Drive, es importante colocar el codigo de verificacion correspondiente \n",
    "#from google.colab import drive\n",
    "#import pandas as pd  #Importamos pandas para la lectura de datos"
   ]
  },
  {
   "cell_type": "code",
   "execution_count": 16,
   "metadata": {},
   "outputs": [],
   "source": [
    "import numpy as np"
   ]
  },
  {
   "cell_type": "code",
   "execution_count": 17,
   "metadata": {},
   "outputs": [
    {
     "name": "stdout",
     "output_type": "stream",
     "text": [
      "Name: numpy\n",
      "Version: 1.23.5\n",
      "Summary: NumPy is the fundamental package for array computing with Python.\n",
      "Home-page: https://www.numpy.org\n",
      "Author: Travis E. Oliphant et al.\n",
      "Author-email: \n",
      "License: BSD\n",
      "Location: c:\\users\\windows\\appdata\\roaming\\python\\python39\\site-packages\n",
      "Requires: \n",
      "Required-by: altair, argilla, blis, bokeh, cape-privacy, category-encoders, chromadb, contourpy, cvxpy, ecos, fastparquet, fasttext, fitz, folium, h5py, hnswlib, ImageHash, imageio, imbalanced-learn, jax, jitcdde, jitcxde-common, Keras-Preprocessing, knnimpute, langchain, langid, lightgbm, matplotlib, missingno, ml-dtypes, nfoursid, nibabel, nipype, numba, numexpr, onnx, onnxconverter-common, onnxmltools, onnxruntime, opencv-python, opt-einsum, osqp, pandas, patsy, pinecone-client, plotly-resampler, pmdarima, pyarrow, pycaret, pycocotools, pydeck, pyod, PyWavelets, qdldl, scikit-image, scikit-learn, scikit-surprise, scipy, scs, seaborn, sentence-transformers, shap, shapely, sktime, spacy, statsforecast, statsmodels, streamlit, tbats, tensorboard, tensorboardX, tensorflow-intel, thinc, tifffile, timesynth, torchvision, transformers, triad, tsdownsample, ttstokenizer, txtai, u8darts, xarray, xgboost, yellowbrick\n"
     ]
    },
    {
     "name": "stderr",
     "output_type": "stream",
     "text": [
      "WARNING: Ignoring invalid distribution -rotobuf (c:\\users\\windows\\appdata\\roaming\\python\\python39\\site-packages)\n"
     ]
    }
   ],
   "source": [
    "!pip show numpy"
   ]
  },
  {
   "cell_type": "code",
   "execution_count": 18,
   "metadata": {},
   "outputs": [
    {
     "data": {
      "text/html": [
       "<div>\n",
       "<style scoped>\n",
       "    .dataframe tbody tr th:only-of-type {\n",
       "        vertical-align: middle;\n",
       "    }\n",
       "\n",
       "    .dataframe tbody tr th {\n",
       "        vertical-align: top;\n",
       "    }\n",
       "\n",
       "    .dataframe thead th {\n",
       "        text-align: right;\n",
       "    }\n",
       "</style>\n",
       "<table border=\"1\" class=\"dataframe\">\n",
       "  <thead>\n",
       "    <tr style=\"text-align: right;\">\n",
       "      <th></th>\n",
       "      <th>FECHA_ADMINISTRACION</th>\n",
       "      <th>GRUPO_ETARIO</th>\n",
       "      <th>GENERO</th>\n",
       "      <th>VACUNA</th>\n",
       "      <th>TIPO_EFECTOR</th>\n",
       "      <th>DOSIS_1</th>\n",
       "      <th>DOSIS_2</th>\n",
       "      <th>ID_CARGA</th>\n",
       "      <th>DOSIS_3</th>\n",
       "    </tr>\n",
       "  </thead>\n",
       "  <tbody>\n",
       "    <tr>\n",
       "      <th>0</th>\n",
       "      <td>15JAN2021:00:00:00</td>\n",
       "      <td>41 a 50</td>\n",
       "      <td>F</td>\n",
       "      <td>Sputnik</td>\n",
       "      <td>Privado</td>\n",
       "      <td>164</td>\n",
       "      <td>0</td>\n",
       "      <td>NaN</td>\n",
       "      <td>0.0</td>\n",
       "    </tr>\n",
       "    <tr>\n",
       "      <th>1</th>\n",
       "      <td>15JAN2021:00:00:00</td>\n",
       "      <td>41 a 50</td>\n",
       "      <td>F</td>\n",
       "      <td>Sputnik</td>\n",
       "      <td>Público</td>\n",
       "      <td>396</td>\n",
       "      <td>0</td>\n",
       "      <td>NaN</td>\n",
       "      <td>0.0</td>\n",
       "    </tr>\n",
       "    <tr>\n",
       "      <th>2</th>\n",
       "      <td>15JAN2021:00:00:00</td>\n",
       "      <td>41 a 50</td>\n",
       "      <td>F</td>\n",
       "      <td>Sputnik</td>\n",
       "      <td>Público nacional</td>\n",
       "      <td>51</td>\n",
       "      <td>0</td>\n",
       "      <td>NaN</td>\n",
       "      <td>0.0</td>\n",
       "    </tr>\n",
       "    <tr>\n",
       "      <th>3</th>\n",
       "      <td>15JAN2021:00:00:00</td>\n",
       "      <td>41 a 50</td>\n",
       "      <td>M</td>\n",
       "      <td>Sputnik</td>\n",
       "      <td>Privado</td>\n",
       "      <td>95</td>\n",
       "      <td>0</td>\n",
       "      <td>NaN</td>\n",
       "      <td>0.0</td>\n",
       "    </tr>\n",
       "    <tr>\n",
       "      <th>4</th>\n",
       "      <td>15JAN2021:00:00:00</td>\n",
       "      <td>41 a 50</td>\n",
       "      <td>M</td>\n",
       "      <td>Sputnik</td>\n",
       "      <td>Público</td>\n",
       "      <td>182</td>\n",
       "      <td>0</td>\n",
       "      <td>NaN</td>\n",
       "      <td>0.0</td>\n",
       "    </tr>\n",
       "    <tr>\n",
       "      <th>...</th>\n",
       "      <td>...</td>\n",
       "      <td>...</td>\n",
       "      <td>...</td>\n",
       "      <td>...</td>\n",
       "      <td>...</td>\n",
       "      <td>...</td>\n",
       "      <td>...</td>\n",
       "      <td>...</td>\n",
       "      <td>...</td>\n",
       "    </tr>\n",
       "    <tr>\n",
       "      <th>45117</th>\n",
       "      <td>27FEB2023:00:00:00</td>\n",
       "      <td>31 a 40</td>\n",
       "      <td>F</td>\n",
       "      <td>vacuna Coronavirus (PFIZER) Bivalente, vial x ...</td>\n",
       "      <td>Público</td>\n",
       "      <td>0</td>\n",
       "      <td>1</td>\n",
       "      <td>NaN</td>\n",
       "      <td>14.0</td>\n",
       "    </tr>\n",
       "    <tr>\n",
       "      <th>45118</th>\n",
       "      <td>27FEB2023:00:00:00</td>\n",
       "      <td>31 a 40</td>\n",
       "      <td>M</td>\n",
       "      <td>Moderna</td>\n",
       "      <td>Público</td>\n",
       "      <td>4</td>\n",
       "      <td>2</td>\n",
       "      <td>NaN</td>\n",
       "      <td>5.0</td>\n",
       "    </tr>\n",
       "    <tr>\n",
       "      <th>45119</th>\n",
       "      <td>27FEB2023:00:00:00</td>\n",
       "      <td>31 a 40</td>\n",
       "      <td>M</td>\n",
       "      <td>vacuna Coronavirus (PFIZER) 1ra - 2da dosis, v...</td>\n",
       "      <td>Público</td>\n",
       "      <td>0</td>\n",
       "      <td>1</td>\n",
       "      <td>NaN</td>\n",
       "      <td>0.0</td>\n",
       "    </tr>\n",
       "    <tr>\n",
       "      <th>45120</th>\n",
       "      <td>27FEB2023:00:00:00</td>\n",
       "      <td>31 a 40</td>\n",
       "      <td>M</td>\n",
       "      <td>vacuna Coronavirus (PFIZER) Bivalente, vial x ...</td>\n",
       "      <td>Público</td>\n",
       "      <td>0</td>\n",
       "      <td>0</td>\n",
       "      <td>NaN</td>\n",
       "      <td>7.0</td>\n",
       "    </tr>\n",
       "    <tr>\n",
       "      <th>45121</th>\n",
       "      <td>27FEB2023:00:00:00</td>\n",
       "      <td>41 a 50</td>\n",
       "      <td>F</td>\n",
       "      <td>Moderna</td>\n",
       "      <td>Público</td>\n",
       "      <td>1</td>\n",
       "      <td>3</td>\n",
       "      <td>NaN</td>\n",
       "      <td>4.0</td>\n",
       "    </tr>\n",
       "  </tbody>\n",
       "</table>\n",
       "<p>45122 rows × 9 columns</p>\n",
       "</div>"
      ],
      "text/plain": [
       "      FECHA_ADMINISTRACION GRUPO_ETARIO GENERO  \\\n",
       "0       15JAN2021:00:00:00      41 a 50      F   \n",
       "1       15JAN2021:00:00:00      41 a 50      F   \n",
       "2       15JAN2021:00:00:00      41 a 50      F   \n",
       "3       15JAN2021:00:00:00      41 a 50      M   \n",
       "4       15JAN2021:00:00:00      41 a 50      M   \n",
       "...                    ...          ...    ...   \n",
       "45117   27FEB2023:00:00:00      31 a 40      F   \n",
       "45118   27FEB2023:00:00:00      31 a 40      M   \n",
       "45119   27FEB2023:00:00:00      31 a 40      M   \n",
       "45120   27FEB2023:00:00:00      31 a 40      M   \n",
       "45121   27FEB2023:00:00:00      41 a 50      F   \n",
       "\n",
       "                                                  VACUNA      TIPO_EFECTOR  \\\n",
       "0                                                Sputnik           Privado   \n",
       "1                                                Sputnik           Público   \n",
       "2                                                Sputnik  Público nacional   \n",
       "3                                                Sputnik           Privado   \n",
       "4                                                Sputnik           Público   \n",
       "...                                                  ...               ...   \n",
       "45117  vacuna Coronavirus (PFIZER) Bivalente, vial x ...           Público   \n",
       "45118                                            Moderna           Público   \n",
       "45119  vacuna Coronavirus (PFIZER) 1ra - 2da dosis, v...           Público   \n",
       "45120  vacuna Coronavirus (PFIZER) Bivalente, vial x ...           Público   \n",
       "45121                                            Moderna           Público   \n",
       "\n",
       "       DOSIS_1  DOSIS_2  ID_CARGA  DOSIS_3  \n",
       "0          164        0       NaN      0.0  \n",
       "1          396        0       NaN      0.0  \n",
       "2           51        0       NaN      0.0  \n",
       "3           95        0       NaN      0.0  \n",
       "4          182        0       NaN      0.0  \n",
       "...        ...      ...       ...      ...  \n",
       "45117        0        1       NaN     14.0  \n",
       "45118        4        2       NaN      5.0  \n",
       "45119        0        1       NaN      0.0  \n",
       "45120        0        0       NaN      7.0  \n",
       "45121        1        3       NaN      4.0  \n",
       "\n",
       "[45122 rows x 9 columns]"
      ]
     },
     "execution_count": 18,
     "metadata": {},
     "output_type": "execute_result"
    }
   ],
   "source": [
    "import pandas as pd\n",
    "import numpy as np \n",
    "variableTurnos=pd.read_csv(ruta+'/dataset_total_vacunas.csv')\n",
    "variableTurnos"
   ]
  },
  {
   "cell_type": "code",
   "execution_count": 19,
   "metadata": {},
   "outputs": [
    {
     "data": {
      "text/plain": [
       "pandas.core.frame.DataFrame"
      ]
     },
     "execution_count": 19,
     "metadata": {},
     "output_type": "execute_result"
    }
   ],
   "source": [
    "type(variableTurnos)"
   ]
  },
  {
   "cell_type": "code",
   "execution_count": 20,
   "metadata": {},
   "outputs": [
    {
     "data": {
      "text/html": [
       "<div>\n",
       "<style scoped>\n",
       "    .dataframe tbody tr th:only-of-type {\n",
       "        vertical-align: middle;\n",
       "    }\n",
       "\n",
       "    .dataframe tbody tr th {\n",
       "        vertical-align: top;\n",
       "    }\n",
       "\n",
       "    .dataframe thead th {\n",
       "        text-align: right;\n",
       "    }\n",
       "</style>\n",
       "<table border=\"1\" class=\"dataframe\">\n",
       "  <thead>\n",
       "    <tr style=\"text-align: right;\">\n",
       "      <th></th>\n",
       "      <th>FECHA_ADMINISTRACION</th>\n",
       "      <th>GRUPO_ETARIO</th>\n",
       "      <th>GENERO</th>\n",
       "      <th>VACUNA</th>\n",
       "      <th>TIPO_EFECTOR</th>\n",
       "      <th>DOSIS_1</th>\n",
       "      <th>DOSIS_2</th>\n",
       "      <th>ID_CARGA</th>\n",
       "      <th>DOSIS_3</th>\n",
       "    </tr>\n",
       "  </thead>\n",
       "  <tbody>\n",
       "    <tr>\n",
       "      <th>0</th>\n",
       "      <td>15JAN2021:00:00:00</td>\n",
       "      <td>41 a 50</td>\n",
       "      <td>F</td>\n",
       "      <td>Sputnik</td>\n",
       "      <td>Privado</td>\n",
       "      <td>164</td>\n",
       "      <td>0</td>\n",
       "      <td>NaN</td>\n",
       "      <td>0.0</td>\n",
       "    </tr>\n",
       "    <tr>\n",
       "      <th>1</th>\n",
       "      <td>15JAN2021:00:00:00</td>\n",
       "      <td>41 a 50</td>\n",
       "      <td>F</td>\n",
       "      <td>Sputnik</td>\n",
       "      <td>Público</td>\n",
       "      <td>396</td>\n",
       "      <td>0</td>\n",
       "      <td>NaN</td>\n",
       "      <td>0.0</td>\n",
       "    </tr>\n",
       "    <tr>\n",
       "      <th>2</th>\n",
       "      <td>15JAN2021:00:00:00</td>\n",
       "      <td>41 a 50</td>\n",
       "      <td>F</td>\n",
       "      <td>Sputnik</td>\n",
       "      <td>Público nacional</td>\n",
       "      <td>51</td>\n",
       "      <td>0</td>\n",
       "      <td>NaN</td>\n",
       "      <td>0.0</td>\n",
       "    </tr>\n",
       "    <tr>\n",
       "      <th>3</th>\n",
       "      <td>15JAN2021:00:00:00</td>\n",
       "      <td>41 a 50</td>\n",
       "      <td>M</td>\n",
       "      <td>Sputnik</td>\n",
       "      <td>Privado</td>\n",
       "      <td>95</td>\n",
       "      <td>0</td>\n",
       "      <td>NaN</td>\n",
       "      <td>0.0</td>\n",
       "    </tr>\n",
       "  </tbody>\n",
       "</table>\n",
       "</div>"
      ],
      "text/plain": [
       "  FECHA_ADMINISTRACION GRUPO_ETARIO GENERO   VACUNA      TIPO_EFECTOR  \\\n",
       "0   15JAN2021:00:00:00      41 a 50      F  Sputnik           Privado   \n",
       "1   15JAN2021:00:00:00      41 a 50      F  Sputnik           Público   \n",
       "2   15JAN2021:00:00:00      41 a 50      F  Sputnik  Público nacional   \n",
       "3   15JAN2021:00:00:00      41 a 50      M  Sputnik           Privado   \n",
       "\n",
       "   DOSIS_1  DOSIS_2  ID_CARGA  DOSIS_3  \n",
       "0      164        0       NaN      0.0  \n",
       "1      396        0       NaN      0.0  \n",
       "2       51        0       NaN      0.0  \n",
       "3       95        0       NaN      0.0  "
      ]
     },
     "execution_count": 20,
     "metadata": {},
     "output_type": "execute_result"
    }
   ],
   "source": [
    "variableTurnos.head(4)"
   ]
  },
  {
   "cell_type": "code",
   "execution_count": 21,
   "metadata": {},
   "outputs": [
    {
     "data": {
      "text/html": [
       "<div>\n",
       "<style scoped>\n",
       "    .dataframe tbody tr th:only-of-type {\n",
       "        vertical-align: middle;\n",
       "    }\n",
       "\n",
       "    .dataframe tbody tr th {\n",
       "        vertical-align: top;\n",
       "    }\n",
       "\n",
       "    .dataframe thead th {\n",
       "        text-align: right;\n",
       "    }\n",
       "</style>\n",
       "<table border=\"1\" class=\"dataframe\">\n",
       "  <thead>\n",
       "    <tr style=\"text-align: right;\">\n",
       "      <th></th>\n",
       "      <th>FECHA_ADMINISTRACION</th>\n",
       "      <th>GRUPO_ETARIO</th>\n",
       "      <th>GENERO</th>\n",
       "      <th>VACUNA</th>\n",
       "      <th>TIPO_EFECTOR</th>\n",
       "      <th>DOSIS_1</th>\n",
       "      <th>DOSIS_2</th>\n",
       "      <th>ID_CARGA</th>\n",
       "      <th>DOSIS_3</th>\n",
       "    </tr>\n",
       "  </thead>\n",
       "  <tbody>\n",
       "    <tr>\n",
       "      <th>45120</th>\n",
       "      <td>27FEB2023:00:00:00</td>\n",
       "      <td>31 a 40</td>\n",
       "      <td>M</td>\n",
       "      <td>vacuna Coronavirus (PFIZER) Bivalente, vial x ...</td>\n",
       "      <td>Público</td>\n",
       "      <td>0</td>\n",
       "      <td>0</td>\n",
       "      <td>NaN</td>\n",
       "      <td>7.0</td>\n",
       "    </tr>\n",
       "    <tr>\n",
       "      <th>45121</th>\n",
       "      <td>27FEB2023:00:00:00</td>\n",
       "      <td>41 a 50</td>\n",
       "      <td>F</td>\n",
       "      <td>Moderna</td>\n",
       "      <td>Público</td>\n",
       "      <td>1</td>\n",
       "      <td>3</td>\n",
       "      <td>NaN</td>\n",
       "      <td>4.0</td>\n",
       "    </tr>\n",
       "  </tbody>\n",
       "</table>\n",
       "</div>"
      ],
      "text/plain": [
       "      FECHA_ADMINISTRACION GRUPO_ETARIO GENERO  \\\n",
       "45120   27FEB2023:00:00:00      31 a 40      M   \n",
       "45121   27FEB2023:00:00:00      41 a 50      F   \n",
       "\n",
       "                                                  VACUNA TIPO_EFECTOR  \\\n",
       "45120  vacuna Coronavirus (PFIZER) Bivalente, vial x ...      Público   \n",
       "45121                                            Moderna      Público   \n",
       "\n",
       "       DOSIS_1  DOSIS_2  ID_CARGA  DOSIS_3  \n",
       "45120        0        0       NaN      7.0  \n",
       "45121        1        3       NaN      4.0  "
      ]
     },
     "execution_count": 21,
     "metadata": {},
     "output_type": "execute_result"
    }
   ],
   "source": [
    "variableTurnos.tail(2)"
   ]
  },
  {
   "cell_type": "code",
   "execution_count": 22,
   "metadata": {},
   "outputs": [
    {
     "data": {
      "text/plain": [
       "GENERO\n",
       "F    23330\n",
       "M    21680\n",
       "N      112\n",
       "Name: count, dtype: int64"
      ]
     },
     "execution_count": 22,
     "metadata": {},
     "output_type": "execute_result"
    }
   ],
   "source": [
    "variableTurnos['GENERO'].value_counts()"
   ]
  },
  {
   "cell_type": "code",
   "execution_count": 23,
   "metadata": {},
   "outputs": [],
   "source": [
    "df_M=variableTurnos[variableTurnos['GENERO']=='M']\n",
    "df_M.to_csv(ruta+ 'Archivo_David.csv',sep=',')"
   ]
  }
 ],
 "metadata": {
  "kernelspec": {
   "display_name": "Python 3 (ipykernel)",
   "language": "python",
   "name": "python3"
  },
  "language_info": {
   "codemirror_mode": {
    "name": "ipython",
    "version": 3
   },
   "file_extension": ".py",
   "mimetype": "text/x-python",
   "name": "python",
   "nbconvert_exporter": "python",
   "pygments_lexer": "ipython3",
   "version": "3.9.1"
  },
  "vscode": {
   "interpreter": {
    "hash": "8649ced70e2df50cbec1162fce5f764529cbe99dc753d77d52a836183a2bd877"
   }
  }
 },
 "nbformat": 4,
 "nbformat_minor": 2
}
