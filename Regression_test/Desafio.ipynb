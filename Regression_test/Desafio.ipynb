{
 "cells": [
  {
   "cell_type": "markdown",
   "metadata": {},
   "source": [
    "# ¿Cuánto deberían valer las propiedades en Milwaukee, Wisconsin? (Parte II)"
   ]
  },
  {
   "cell_type": "markdown",
   "metadata": {},
   "source": [
    "## Objetivos\n",
    "\n",
    "En los últimos casos, hemos visto varias técnicas utilizadas para diagnosticar la aplicabilidad de los modelos de regresión lineal."
   ]
  },
  {
   "cell_type": "markdown",
   "metadata": {},
   "source": [
    "## Introducción \n",
    "\n",
    "**Problema empresarial.** Su tarea es **crear un modelo para predecir los precios de las propiedades en la ciudad de Milwaukee, Wisconsin**.\n",
    "\n",
    "**Contexto analítico.**  el conjunto de datos consta de ventas de propiedades (comerciales y residenciales) en Milwaukee, Wisconsin, de 2002 a 2018. \n"
   ]
  },
  {
   "cell_type": "markdown",
   "metadata": {},
   "source": [
    "# Preparar data"
   ]
  },
  {
   "cell_type": "code",
   "execution_count": 1,
   "metadata": {},
   "outputs": [],
   "source": [
    "### Load relevant packages\n",
    "import pandas                  as pd\n",
    "import numpy                   as np\n",
    "import matplotlib.pyplot       as plt\n",
    "import seaborn                 as sns\n",
    "import statsmodels.formula.api as smf\n",
    "import statsmodels.api         as sm\n",
    "import scipy\n",
    "\n",
    "%matplotlib inline\n",
    "plt.style.use('ggplot')\n",
    "from pandas.plotting import register_matplotlib_converters\n",
    "register_matplotlib_converters()"
   ]
  },
  {
   "cell_type": "code",
   "execution_count": 2,
   "metadata": {},
   "outputs": [
    {
     "name": "stderr",
     "output_type": "stream",
     "text": [
      "/var/folders/wt/dd5nh3v12zvd92jwl2f9nt400000gn/T/ipykernel_79723/1550737232.py:27: DeprecationWarning: is_categorical_dtype is deprecated and will be removed in a future version. Use isinstance(dtype, pd.CategoricalDtype) instead\n",
      "  if pd.api.types.is_categorical_dtype(col):\n"
     ]
    },
    {
     "data": {
      "text/html": [
       "<div>\n",
       "<style scoped>\n",
       "    .dataframe tbody tr th:only-of-type {\n",
       "        vertical-align: middle;\n",
       "    }\n",
       "\n",
       "    .dataframe tbody tr th {\n",
       "        vertical-align: top;\n",
       "    }\n",
       "\n",
       "    .dataframe thead th {\n",
       "        text-align: right;\n",
       "    }\n",
       "</style>\n",
       "<table border=\"1\" class=\"dataframe\">\n",
       "  <thead>\n",
       "    <tr style=\"text-align: right;\">\n",
       "      <th></th>\n",
       "      <th>PropType</th>\n",
       "      <th>Taxkey</th>\n",
       "      <th>Address</th>\n",
       "      <th>CondoProject</th>\n",
       "      <th>District</th>\n",
       "      <th>Nbhd</th>\n",
       "      <th>Style</th>\n",
       "      <th>Extwall</th>\n",
       "      <th>Stories</th>\n",
       "      <th>Year_Built</th>\n",
       "      <th>Nr_of_rms</th>\n",
       "      <th>Fin_sqft</th>\n",
       "      <th>Units</th>\n",
       "      <th>Bdrms</th>\n",
       "      <th>Fbath</th>\n",
       "      <th>Hbath</th>\n",
       "      <th>Lotsize</th>\n",
       "      <th>Sale_date</th>\n",
       "      <th>Sale_price</th>\n",
       "    </tr>\n",
       "  </thead>\n",
       "  <tbody>\n",
       "    <tr>\n",
       "      <th>10</th>\n",
       "      <td>Residential</td>\n",
       "      <td>3080013000</td>\n",
       "      <td>3033 N 35TH ST</td>\n",
       "      <td>NaN</td>\n",
       "      <td>7</td>\n",
       "      <td>2960</td>\n",
       "      <td>AP 1</td>\n",
       "      <td>Frame</td>\n",
       "      <td>2.0</td>\n",
       "      <td>1913</td>\n",
       "      <td>0</td>\n",
       "      <td>3476</td>\n",
       "      <td>4</td>\n",
       "      <td>9</td>\n",
       "      <td>1</td>\n",
       "      <td>0</td>\n",
       "      <td>5040</td>\n",
       "      <td>2002-02-01</td>\n",
       "      <td>42000</td>\n",
       "    </tr>\n",
       "    <tr>\n",
       "      <th>51</th>\n",
       "      <td>Residential</td>\n",
       "      <td>3190434000</td>\n",
       "      <td>1908 E WEBSTER PL</td>\n",
       "      <td>NaN</td>\n",
       "      <td>3</td>\n",
       "      <td>3170</td>\n",
       "      <td>Rm or Rooming House</td>\n",
       "      <td>Frame</td>\n",
       "      <td>2.0</td>\n",
       "      <td>1897</td>\n",
       "      <td>0</td>\n",
       "      <td>1992</td>\n",
       "      <td>4</td>\n",
       "      <td>2</td>\n",
       "      <td>2</td>\n",
       "      <td>0</td>\n",
       "      <td>2880</td>\n",
       "      <td>2002-05-01</td>\n",
       "      <td>145000</td>\n",
       "    </tr>\n",
       "    <tr>\n",
       "      <th>67</th>\n",
       "      <td>Residential</td>\n",
       "      <td>3891722000</td>\n",
       "      <td>812 N 25TH ST</td>\n",
       "      <td>NaN</td>\n",
       "      <td>4</td>\n",
       "      <td>3040</td>\n",
       "      <td>Rm or Rooming House</td>\n",
       "      <td>Frame</td>\n",
       "      <td>2.0</td>\n",
       "      <td>1907</td>\n",
       "      <td>0</td>\n",
       "      <td>2339</td>\n",
       "      <td>6</td>\n",
       "      <td>0</td>\n",
       "      <td>1</td>\n",
       "      <td>0</td>\n",
       "      <td>3185</td>\n",
       "      <td>2002-06-01</td>\n",
       "      <td>30000</td>\n",
       "    </tr>\n",
       "    <tr>\n",
       "      <th>116</th>\n",
       "      <td>Residential</td>\n",
       "      <td>3880628000</td>\n",
       "      <td>959 N 34TH ST</td>\n",
       "      <td>NaN</td>\n",
       "      <td>4</td>\n",
       "      <td>2300</td>\n",
       "      <td>AP 1</td>\n",
       "      <td>Frame</td>\n",
       "      <td>2.0</td>\n",
       "      <td>1890</td>\n",
       "      <td>0</td>\n",
       "      <td>2329</td>\n",
       "      <td>4</td>\n",
       "      <td>4</td>\n",
       "      <td>1</td>\n",
       "      <td>0</td>\n",
       "      <td>5781</td>\n",
       "      <td>2002-10-01</td>\n",
       "      <td>66500</td>\n",
       "    </tr>\n",
       "    <tr>\n",
       "      <th>134</th>\n",
       "      <td>Residential</td>\n",
       "      <td>3880406000</td>\n",
       "      <td>3209 W WELLS ST</td>\n",
       "      <td>NaN</td>\n",
       "      <td>4</td>\n",
       "      <td>2300</td>\n",
       "      <td>Mansion</td>\n",
       "      <td>Stone</td>\n",
       "      <td>2.5</td>\n",
       "      <td>1891</td>\n",
       "      <td>0</td>\n",
       "      <td>7450</td>\n",
       "      <td>2</td>\n",
       "      <td>7</td>\n",
       "      <td>6</td>\n",
       "      <td>0</td>\n",
       "      <td>15600</td>\n",
       "      <td>2002-11-01</td>\n",
       "      <td>150500</td>\n",
       "    </tr>\n",
       "  </tbody>\n",
       "</table>\n",
       "</div>"
      ],
      "text/plain": [
       "        PropType      Taxkey            Address CondoProject District  Nbhd  \\\n",
       "10   Residential  3080013000     3033 N 35TH ST          NaN        7  2960   \n",
       "51   Residential  3190434000  1908 E WEBSTER PL          NaN        3  3170   \n",
       "67   Residential  3891722000      812 N 25TH ST          NaN        4  3040   \n",
       "116  Residential  3880628000      959 N 34TH ST          NaN        4  2300   \n",
       "134  Residential  3880406000    3209 W WELLS ST          NaN        4  2300   \n",
       "\n",
       "                   Style Extwall  Stories  Year_Built  Nr_of_rms  Fin_sqft  \\\n",
       "10                  AP 1   Frame      2.0        1913          0      3476   \n",
       "51   Rm or Rooming House   Frame      2.0        1897          0      1992   \n",
       "67   Rm or Rooming House   Frame      2.0        1907          0      2339   \n",
       "116                 AP 1   Frame      2.0        1890          0      2329   \n",
       "134              Mansion   Stone      2.5        1891          0      7450   \n",
       "\n",
       "     Units  Bdrms  Fbath  Hbath  Lotsize  Sale_date  Sale_price  \n",
       "10       4      9      1      0     5040 2002-02-01       42000  \n",
       "51       4      2      2      0     2880 2002-05-01      145000  \n",
       "67       6      0      1      0     3185 2002-06-01       30000  \n",
       "116      4      4      1      0     5781 2002-10-01       66500  \n",
       "134      2      7      6      0    15600 2002-11-01      150500  "
      ]
     },
     "execution_count": 2,
     "metadata": {},
     "output_type": "execute_result"
    }
   ],
   "source": [
    "data = pd.read_csv(\"2002-2018-property-sales-data.csv\",\n",
    "    dtype = { # Categorias\n",
    "        \"PropType\": \"category\",\n",
    "        \"District\": \"category\",\n",
    "        \"Extwall\": \"category\",\n",
    "        \"Nbhd\": \"category\",\n",
    "        \"Style\": \"category\",\n",
    "    },\n",
    "    parse_dates=[\"Sale_date\"],\n",
    ")\n",
    "def remove_unused_categories(data):\n",
    "    \"\"\" The `remove_unused_categories` method in pandas\n",
    "        removes categories from a Series if there are no\n",
    "        elements of that category.\n",
    "        \n",
    "        This function is a convenience function that removes\n",
    "        unused categories for all categorical columns\n",
    "        of a data frame.\n",
    "        \n",
    "        The reason this is useful is that when we\n",
    "        fit a linear regression, `statsmodels` will\n",
    "        create a coefficient for every category in a column,\n",
    "        and so unused categories pollute the results.\n",
    "    \"\"\"\n",
    "    for cname in data:\n",
    "        col = data[cname]\n",
    "        if pd.api.types.is_categorical_dtype(col):\n",
    "            data[cname] = col.cat.remove_unused_categories()\n",
    "    return data\n",
    "\n",
    "clean = np.where(\n",
    "    (data[\"Sale_price\"] > 2000) & # Importante\n",
    "    (data[\"Year_Built\"] > 1800) &\n",
    "    (data[\"Fin_sqft\"] > 0) & # Condicion logica\n",
    "    (data[\"Lotsize\"] > 0)  & # Condicion Logica\n",
    "    (data[\"PropType\"] == \"Residential\")\n",
    "    )\n",
    "data_clean = data.iloc[clean].copy()\n",
    "remove_unused_categories(data_clean).head()"
   ]
  },
  {
   "cell_type": "markdown",
   "metadata": {},
   "source": [
    "Debemos dividir aleatoriamente los datos en un conjunto de entrenamiento y un conjunto de prueba. El **conjunto de entrenamiento** es aquel en el que entrenamos y ajustamos nuestro modelo de regresión lineal múltiple. Luego ejecutamos nuestro modelo ajustado en el **conjunto de prueba** y comparamos sus predicciones con los datos de la variable de respuesta del conjunto de prueba real para evaluar su rendimiento."
   ]
  },
  {
   "cell_type": "code",
   "execution_count": null,
   "metadata": {},
   "outputs": [],
   "source": [
    "#### RESPUESTA AQUI"
   ]
  },
  {
   "cell_type": "markdown",
   "metadata": {},
   "source": [
    "Ahora apodemos hacer un modelo para poder predecir `Sales` en funcion de `District + Units+Fin_sqft`\n",
    "\n",
    "Analiza los resultados , hacen sentido?"
   ]
  },
  {
   "cell_type": "code",
   "execution_count": null,
   "metadata": {},
   "outputs": [],
   "source": [
    "#### RESPUESTA AQUI"
   ]
  },
  {
   "cell_type": "markdown",
   "metadata": {},
   "source": [
    "Ahora intentemos realizar algunas transformaciones para entender si se mejoran nuestros resultados\n",
    "Puedes usar esto como referencia para hacer el modelo \n",
    "```python\n",
    "model_log = smf.ols(formula = \"np.log(Sale_price) ~ District + Units\"\n",
    "                           \"+ np.log(Fin_sqft)\", \n",
    "                 data = train).fit()\n",
    "```"
   ]
  },
  {
   "cell_type": "code",
   "execution_count": null,
   "metadata": {},
   "outputs": [],
   "source": [
    "#### RESPUESTA AQUI"
   ]
  },
  {
   "cell_type": "markdown",
   "metadata": {},
   "source": [
    "# Variables categoricas\n",
    "\n",
    "Quizás haya notado que hay más de una docena de coeficientes para `Distrito` arriba. Esto se debe a que `Distrito` es una variable categórica y, para las características categóricas, se obtiene un coeficiente para todas las categorías excepto una. Si solo hay dos categorías (por ejemplo, género), esto es intuitivo: la característica se convierte en una columna de ceros y unos antes de introducirla en la regresión, donde se trata como una variable numérica regular.\n",
    "\n",
    "Cuando hay más de dos categorías, una categoría se designa como la categoría de \"referencia\" o \"línea de base\", y se crean columnas \"ficticias\" de unos y ceros para todas las demás categorías. Tomemos un ejemplo ficticio con tres categorías y cinco filas:\n",
    "\n",
    "| Categoría |\n",
    "|--------------|\n",
    "| A |\n",
    "| B |\n",
    "| C |\n",
    "| C |\n",
    "| A |\n",
    "\n",
    "Antes de ajustar la regresión lineal, la columna `Categoría` se transforma en **dos** columnas “ficticias” (no se agrega una columna para la categoría de referencia).\n",
    "\n",
    "La primera columna es 1 si el distrito es `B` y 0 en caso contrario, mientras que la segunda columna es 1 si el distrito es `C` y 0 en caso contrario. Obtenemos:\n",
    "\n",
    "| Categoría_B | Categoría_C |\n",
    "|--------------|-------------|\n",
    "| 0 | 0 |\n",
    "| 1 | 0 |\n",
    "| 0 | 1 |\n",
    "| 0 | 1 |\n",
    "| 0 | 0 |\n",
    "\n",
    "Las columnas ficticias se introducen en la regresión lineal y se tratan como variables numéricas regulares. Esta técnica se denomina **codificación one-hot** y se puede realizar manualmente con la función pandas `pd.get_dummies()`:"
   ]
  },
  {
   "cell_type": "code",
   "execution_count": 3,
   "metadata": {},
   "outputs": [
    {
     "data": {
      "text/html": [
       "<div>\n",
       "<style scoped>\n",
       "    .dataframe tbody tr th:only-of-type {\n",
       "        vertical-align: middle;\n",
       "    }\n",
       "\n",
       "    .dataframe tbody tr th {\n",
       "        vertical-align: top;\n",
       "    }\n",
       "\n",
       "    .dataframe thead th {\n",
       "        text-align: right;\n",
       "    }\n",
       "</style>\n",
       "<table border=\"1\" class=\"dataframe\">\n",
       "  <thead>\n",
       "    <tr style=\"text-align: right;\">\n",
       "      <th></th>\n",
       "      <th>Category_B</th>\n",
       "      <th>Category_C</th>\n",
       "    </tr>\n",
       "  </thead>\n",
       "  <tbody>\n",
       "    <tr>\n",
       "      <th>0</th>\n",
       "      <td>False</td>\n",
       "      <td>False</td>\n",
       "    </tr>\n",
       "    <tr>\n",
       "      <th>1</th>\n",
       "      <td>True</td>\n",
       "      <td>False</td>\n",
       "    </tr>\n",
       "    <tr>\n",
       "      <th>2</th>\n",
       "      <td>False</td>\n",
       "      <td>True</td>\n",
       "    </tr>\n",
       "    <tr>\n",
       "      <th>3</th>\n",
       "      <td>False</td>\n",
       "      <td>True</td>\n",
       "    </tr>\n",
       "    <tr>\n",
       "      <th>4</th>\n",
       "      <td>False</td>\n",
       "      <td>False</td>\n",
       "    </tr>\n",
       "  </tbody>\n",
       "</table>\n",
       "</div>"
      ],
      "text/plain": [
       "   Category_B  Category_C\n",
       "0       False       False\n",
       "1        True       False\n",
       "2       False        True\n",
       "3       False        True\n",
       "4       False       False"
      ]
     },
     "execution_count": 3,
     "metadata": {},
     "output_type": "execute_result"
    }
   ],
   "source": [
    "df_dummy=pd.DataFrame({'Category':['A','B','C','C','A']})\n",
    "pd.get_dummies(df_dummy,columns=['Category'], drop_first=True) "
   ]
  },
  {
   "cell_type": "markdown",
   "metadata": {},
   "source": [
    "Al igual que en el caso binario, la elección de la línea de base cambia los coeficientes y su interpretación; el coeficiente `Distrito[T.3]` de 1.0236 debe interpretarse como la diferencia en los resultados previstos entre los distritos 3 y 1. Pero la elección de la línea de base no afecta las predicciones ni el rendimiento del modelo, por lo que la mayoría del software elegirá arbitrariamente una categoría como línea de base sin previo aviso (a menudo la primera alfabéticamente)."
   ]
  },
  {
   "cell_type": "markdown",
   "metadata": {},
   "source": [
    "Ahora hay un nuevo desafio \n",
    "\n",
    "Agrega la columna `Style` a nuestro último modelo de regresión. Hazlo de dos maneras: primero transformando la variable `Style` usando `pd.get_dummies()` y luego sin la transformación. Verifica que obtengas los mismos resultados. De acuerdo con este modelo, ¿qué propiedad style es la más deseable?\n",
    "\n",
    "**Sugerencia:** La variable `Style` contiene nombres, como `Residence O/S`, que pueden ser problemáticos al escribir fórmulas `smf.ols` (consulta la [Sintaxis de Pasty](https://patsy.readthedocs.io/en/latest/index.html)). Puedes usar la sintaxis `Pasty` entre comillas `Q()` en los nombres de variables para evitar este problema:\n",
    "```python\n",
    "formula=\"np.log(Sale_price) ~Q(\"Residence O/S\")+...\n",
    "```"
   ]
  },
  {
   "cell_type": "code",
   "execution_count": null,
   "metadata": {},
   "outputs": [],
   "source": [
    "#### RESPUESTA AQUI"
   ]
  }
 ],
 "metadata": {
  "kernelspec": {
   "display_name": "Python 3",
   "language": "python",
   "name": "python3"
  },
  "language_info": {
   "codemirror_mode": {
    "name": "ipython",
    "version": 3
   },
   "file_extension": ".py",
   "mimetype": "text/x-python",
   "name": "python",
   "nbconvert_exporter": "python",
   "pygments_lexer": "ipython3",
   "version": "3.9.6"
  }
 },
 "nbformat": 4,
 "nbformat_minor": 2
}
